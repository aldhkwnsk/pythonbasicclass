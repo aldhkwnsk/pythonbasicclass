{
  "nbformat": 4,
  "nbformat_minor": 0,
  "metadata": {
    "colab": {
      "name": "Python_Basic_Day04.ipynb",
      "provenance": [],
      "collapsed_sections": [],
      "authorship_tag": "ABX9TyPhtxgbUXw+EanLVwo6JChk",
      "include_colab_link": true
    },
    "kernelspec": {
      "name": "python3",
      "display_name": "Python 3"
    },
    "language_info": {
      "name": "python"
    }
  },
  "cells": [
    {
      "cell_type": "markdown",
      "metadata": {
        "id": "view-in-github",
        "colab_type": "text"
      },
      "source": [
        "<a href=\"https://colab.research.google.com/github/aldhkwnsk/pythonbasicclass/blob/main/Python_Basic_Day04.ipynb\" target=\"_parent\"><img src=\"https://colab.research.google.com/assets/colab-badge.svg\" alt=\"Open In Colab\"/></a>"
      ]
    },
    {
      "cell_type": "code",
      "execution_count": 2,
      "metadata": {
        "id": "H4FtOs7ftxgG",
        "colab": {
          "base_uri": "https://localhost:8080/"
        },
        "outputId": "e6f03a5c-8647-4489-907d-bc4e082c6789"
      },
      "outputs": [
        {
          "output_type": "stream",
          "name": "stdout",
          "text": [
            "점수를 입력하세요 >>123\n",
            "<class 'str'>\n"
          ]
        }
      ],
      "source": [
        "# input() 함수를 사용할 때 주의할 점\n",
        "# input()은 모든 입력을 str(문자열)로 저장한다는 점이다.\n",
        "# 따라서 숫자를 입력해도 문자로 받아들인다.\n",
        "\n",
        "n = input('점수를 입력하세요 >>')\n",
        "print(type(n))"
      ]
    },
    {
      "cell_type": "code",
      "source": [
        "n = int(input('정수를 입력하세요 >> ')) # 형변환이 필요하다. casting\n",
        "print(type(n))"
      ],
      "metadata": {
        "colab": {
          "base_uri": "https://localhost:8080/"
        },
        "id": "E3bjx-H_0Ocn",
        "outputId": "65c7e4d1-06eb-4b31-d1e0-7e9bb71ebda2"
      },
      "execution_count": 3,
      "outputs": [
        {
          "output_type": "stream",
          "name": "stdout",
          "text": [
            "정수를 입력하세요 >> 123\n",
            "<class 'int'>\n"
          ]
        }
      ]
    },
    {
      "cell_type": "code",
      "source": [
        "price = 50000\n",
        "n = int(input('할부 개월 입력 >>'))\n",
        "print('매달 내는 돈은 {}원 입니다.'.format(price/n))"
      ],
      "metadata": {
        "colab": {
          "base_uri": "https://localhost:8080/"
        },
        "id": "h8kxH23u0an1",
        "outputId": "5fa8d4ea-d70b-4e5a-aebb-6e9de9fdfe35"
      },
      "execution_count": 5,
      "outputs": [
        {
          "output_type": "stream",
          "name": "stdout",
          "text": [
            "할부 개월 입력 >>5\n",
            "매달 내는 돈은 10000.0원 입니다.\n"
          ]
        }
      ]
    },
    {
      "cell_type": "code",
      "source": [
        "n1 = float(input('첫 번째 실수를 입력하세요 >> '))\n",
        "n2 = float(input('둥 번째 실수를 입력하세요 >> '))\n",
        "print(f'{n1}과 {n2}의 합은 {n1+n2}입니다')"
      ],
      "metadata": {
        "colab": {
          "base_uri": "https://localhost:8080/"
        },
        "id": "hZekC6-K0-mY",
        "outputId": "2a6a9bba-7827-4ed5-e47b-cfaa46d9e9c0"
      },
      "execution_count": 10,
      "outputs": [
        {
          "output_type": "stream",
          "name": "stdout",
          "text": [
            "첫 번째 실수를 입력하세요 >> 243.4\n",
            "둥 번째 실수를 입력하세요 >> 34.08\n",
            "243.4과 34.08의 합은 277.48입니다\n"
          ]
        }
      ]
    },
    {
      "cell_type": "code",
      "source": [
        "month = [31,28,31,30,31,30,31,31,30,31,30,31]\n",
        "n = int(input('1~12 사이의 월을 입력하세요 >>'))\n",
        "print(f'{n}월은 {month[n-1]}일까지 있습니다.')"
      ],
      "metadata": {
        "colab": {
          "base_uri": "https://localhost:8080/"
        },
        "id": "lEfRcc4O1p7b",
        "outputId": "30a63e9b-d8de-41ec-c914-d1afce9a7a77"
      },
      "execution_count": 18,
      "outputs": [
        {
          "output_type": "stream",
          "name": "stdout",
          "text": [
            "1~12 사이의 월을 입력하세요 >>5\n",
            "5월은 31일까지 있습니다.\n"
          ]
        }
      ]
    },
    {
      "cell_type": "code",
      "source": [
        "english_dict = {'flower':'꽃','fly':'날다', 'floor':'바닥'}\n",
        "key = input('영어 단어를 입력하세요 >> ')\n",
        "print(f'{key}:{english_dict[key]}')"
      ],
      "metadata": {
        "colab": {
          "base_uri": "https://localhost:8080/"
        },
        "id": "FDzNuaG13EBl",
        "outputId": "b4c0de0b-9212-497c-a1ba-dad25a302712"
      },
      "execution_count": 20,
      "outputs": [
        {
          "output_type": "stream",
          "name": "stdout",
          "text": [
            "영어 단어를 입력하세요 >> fly\n",
            "fly:날다\n"
          ]
        }
      ]
    },
    {
      "cell_type": "code",
      "source": [
        "site = set()\n",
        "site.add(input('희망하는 수학여행지를 입력하세요 >> '))\n",
        "site.add(input('희망하는 수학여행지를 입력하세요 >> '))\n",
        "site.add(input('희망하는 수학여행지를 입력하세요 >> '))\n",
        "print(f'조사된 수학여행지는 {site}입니다')\n"
      ],
      "metadata": {
        "colab": {
          "base_uri": "https://localhost:8080/"
        },
        "id": "c1sXDRoO4Fw-",
        "outputId": "0981219b-51bb-4e35-bd29-0648bab3a5a6"
      },
      "execution_count": 23,
      "outputs": [
        {
          "output_type": "stream",
          "name": "stdout",
          "text": [
            "희망하는 수학여행지를 입력하세요 >> 제주\n",
            "희망하는 수학여행지를 입력하세요 >> 제주\n",
            "희망하는 수학여행지를 입력하세요 >> 울릉도\n",
            "조사된 수학여행지는 {'울릉도', '제주'}입니다\n"
          ]
        }
      ]
    },
    {
      "cell_type": "code",
      "source": [
        "# 복합 대입 연산자\n",
        "a = 1\n",
        "print(a)\n",
        "a = a + 1  # a += 1\n",
        "print(a)"
      ],
      "metadata": {
        "colab": {
          "base_uri": "https://localhost:8080/"
        },
        "id": "6WsnxOjX-QYl",
        "outputId": "878eee6c-4726-4e66-ae43-af44fb95383f"
      },
      "execution_count": 24,
      "outputs": [
        {
          "output_type": "stream",
          "name": "stdout",
          "text": [
            "1\n",
            "2\n"
          ]
        }
      ]
    },
    {
      "cell_type": "code",
      "source": [
        "a,b = 10, 20\n",
        "print('a = %d, b = %d' % (a,b))\n",
        "a,b = b, a #***********************<<<<<<*********************************#\n",
        "print('a = %d, b = %d' % (a,b))"
      ],
      "metadata": {
        "colab": {
          "base_uri": "https://localhost:8080/"
        },
        "id": "PjqFImBMAPhO",
        "outputId": "037b36fd-274a-4d65-eb84-bbaa4bd7bf4c"
      },
      "execution_count": 26,
      "outputs": [
        {
          "output_type": "stream",
          "name": "stdout",
          "text": [
            "a = 10, b = 20\n",
            "a = 20, b = 10\n"
          ]
        }
      ]
    },
    {
      "cell_type": "code",
      "source": [
        "# 시퀀스 연산자 : 순서가 있는 데이터 구조(리스트, 튜플, ranege, 문자열)에서 사용할 수 있는 연산자\n",
        "\n",
        "print([1,2,3]+[4,5,6])\n",
        "print('hell'+'o')\n",
        "print([1,2,3]*2)"
      ],
      "metadata": {
        "colab": {
          "base_uri": "https://localhost:8080/"
        },
        "id": "S6KFu61aBKxB",
        "outputId": "ed36250d-6be4-4370-f436-1132fc494f66"
      },
      "execution_count": 30,
      "outputs": [
        {
          "output_type": "stream",
          "name": "stdout",
          "text": [
            "[1, 2, 3, 4, 5, 6]\n",
            "hello\n",
            "[1, 2, 3, 1, 2, 3]\n"
          ]
        }
      ]
    },
    {
      "cell_type": "code",
      "source": [
        "# 멤버쉽 연산자 : 어떤 값이 지저왼 컬렉션(리스트 문자열 딕셔너리)에 속해 있는지 여부를 판단\n",
        "\n",
        "print(5 in [1,2,3,4,5]) # [1,2,3,4,5] 리스트에 5가 포함되어 있는가\n",
        "print('a' not in 'apple') # 'apple'문자열에 a가 포함되어 있지 않은가"
      ],
      "metadata": {
        "colab": {
          "base_uri": "https://localhost:8080/"
        },
        "id": "F2exqvlbDCBM",
        "outputId": "785f0d96-8afb-46d1-8c05-ce0acbbe7416"
      },
      "execution_count": 31,
      "outputs": [
        {
          "output_type": "stream",
          "name": "stdout",
          "text": [
            "True\n",
            "False\n"
          ]
        }
      ]
    },
    {
      "cell_type": "code",
      "source": [
        "num = int(input('10~99사이의 정수를 입력하세요 >> '))\n",
        "print(f'십의 자리: {num//10}')\n",
        "print(f'일의 자리: {num%10}')\n",
        "\n",
        "num = input('10~99사이의 정수를 입력하세요 >> ')\n",
        "print(f'십의 자리: {num[0]}')\n",
        "print(f'일의 자리: {num[1]}')"
      ],
      "metadata": {
        "colab": {
          "base_uri": "https://localhost:8080/"
        },
        "id": "TBX3qyU9EArE",
        "outputId": "ba0410d4-8313-4777-a278-451265da8353"
      },
      "execution_count": 38,
      "outputs": [
        {
          "output_type": "stream",
          "name": "stdout",
          "text": [
            "10~99사이의 정수를 입력하세요 >> 63\n",
            "십의 자리: 6\n",
            "일의 자리: 3\n",
            "10~99사이의 정수를 입력하세요 >> 63\n",
            "십의 자리: 6\n",
            "일의 자리: 3\n"
          ]
        }
      ]
    },
    {
      "cell_type": "code",
      "source": [
        "sec = int(input('초를 입력하세요 >> '))\n",
        "hour = sec // 3600\n",
        "min = (sec% 3600) // 60\n",
        "sec = (sec% 3600) % 60 # = sec % 60\n",
        "\n",
        "print(f'반환 결과는 {hour}시간 {min}분 {sec}초 입니다')"
      ],
      "metadata": {
        "colab": {
          "base_uri": "https://localhost:8080/"
        },
        "id": "h9RI9GniEcBQ",
        "outputId": "bfe4fd20-3a6a-4360-c4c0-c4218dbf28f7"
      },
      "execution_count": 51,
      "outputs": [
        {
          "output_type": "stream",
          "name": "stdout",
          "text": [
            "초를 입력하세요 >> 3690\n",
            "반환 결과는 1시간 1분 30초 입니다\n"
          ]
        }
      ]
    },
    {
      "cell_type": "code",
      "source": [
        "num = int(input('4자리 사원번호를 입력하세요 >> '))\n",
        "print('근무 시간은 {}입니다'.format('오전' if (num % 10) >= 5 else '오후'))\n",
        "\n",
        "# if num%10 >= 5:\n",
        "#   print('근무시간은 오전')\n",
        "# else:\n",
        "#   print('근무시간은 오후')"
      ],
      "metadata": {
        "colab": {
          "base_uri": "https://localhost:8080/"
        },
        "id": "U2k3ugpeGK01",
        "outputId": "2dccdfd3-e968-421b-8436-1c28ac4ad1cf"
      },
      "execution_count": 55,
      "outputs": [
        {
          "output_type": "stream",
          "name": "stdout",
          "text": [
            "4자리 사원번호를 입력하세요 >> 3452\n",
            "근무 시간은 오후입니다\n"
          ]
        }
      ]
    },
    {
      "cell_type": "code",
      "source": [
        "# 조건물 if\n",
        "# 조건문은 특정 조건을 만족하는지의 여부에 따라 실행되는 코드가 달라져야 할 때 사용\n",
        "\n"
      ],
      "metadata": {
        "id": "H8Ov-br6Pbnl"
      },
      "execution_count": null,
      "outputs": []
    }
  ]
}