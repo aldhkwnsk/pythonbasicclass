{
  "nbformat": 4,
  "nbformat_minor": 0,
  "metadata": {
    "colab": {
      "name": "Python_Basic_Day06.ipynb",
      "provenance": [],
      "collapsed_sections": [],
      "authorship_tag": "ABX9TyPNpohRCZJ1/eLyIZRlkwkU",
      "include_colab_link": true
    },
    "kernelspec": {
      "name": "python3",
      "display_name": "Python 3"
    },
    "language_info": {
      "name": "python"
    }
  },
  "cells": [
    {
      "cell_type": "markdown",
      "metadata": {
        "id": "view-in-github",
        "colab_type": "text"
      },
      "source": [
        "<a href=\"https://colab.research.google.com/github/aldhkwnsk/pythonbasicclass/blob/main/Python_Basic_Day06.ipynb\" target=\"_parent\"><img src=\"https://colab.research.google.com/assets/colab-badge.svg\" alt=\"Open In Colab\"/></a>"
      ]
    },
    {
      "cell_type": "code",
      "execution_count": 2,
      "metadata": {
        "colab": {
          "base_uri": "https://localhost:8080/"
        },
        "id": "aRWGbgysx-g3",
        "outputId": "bce2efc2-04b1-437b-a69f-881ddfeb3539"
      },
      "outputs": [
        {
          "output_type": "stream",
          "name": "stdout",
          "text": [
            "1\n",
            "2\n",
            "3\n"
          ]
        }
      ],
      "source": [
        "# for   반복문, 주로 반복횟수를 명확히 알고 있을 때 사용\n",
        "\n",
        "# for 변수 in 반복객체:\n",
        "#   반복실행\n",
        "\n",
        "for i in [1,2,3]:\n",
        "  print(i)"
      ]
    },
    {
      "cell_type": "code",
      "source": [
        "for i in \"Hello\":\n",
        "  print(i)"
      ],
      "metadata": {
        "colab": {
          "base_uri": "https://localhost:8080/"
        },
        "id": "uW5A-gI4zFdX",
        "outputId": "a7045a01-e05f-4ad9-cefd-e4478946c1dd"
      },
      "execution_count": 4,
      "outputs": [
        {
          "output_type": "stream",
          "name": "stdout",
          "text": [
            "H\n",
            "e\n",
            "l\n",
            "l\n",
            "o\n"
          ]
        }
      ]
    },
    {
      "cell_type": "code",
      "source": [
        "for item in ['가위', '바위', '보']:\n",
        "  print(item)"
      ],
      "metadata": {
        "colab": {
          "base_uri": "https://localhost:8080/"
        },
        "id": "sqkxPFL5znHw",
        "outputId": "7ab091ef-d452-4f23-f462-92f1f4b2ba10"
      },
      "execution_count": 5,
      "outputs": [
        {
          "output_type": "stream",
          "name": "stdout",
          "text": [
            "가위\n",
            "바위\n",
            "보\n"
          ]
        }
      ]
    },
    {
      "cell_type": "code",
      "source": [
        "# 리스트 내포 : for 문을 이용해서 리스트를 간단히 생성한다.\n",
        "\n",
        "[n*2  for n in [1,2,3]]"
      ],
      "metadata": {
        "colab": {
          "base_uri": "https://localhost:8080/"
        },
        "id": "y1bl03Cy0LbS",
        "outputId": "37de9909-067e-4056-c584-c09715fe2946"
      },
      "execution_count": 6,
      "outputs": [
        {
          "output_type": "execute_result",
          "data": {
            "text/plain": [
              "[2, 4, 6]"
            ]
          },
          "metadata": {},
          "execution_count": 6
        }
      ]
    },
    {
      "cell_type": "code",
      "source": [
        "[n*2 for n in [1,2,3,4,5] if n%2 == 1]\n",
        "# n 이 [1,2,3,4,5]에 있을 때 if문이 참이라면 n*2해서 리스트 만들기"
      ],
      "metadata": {
        "colab": {
          "base_uri": "https://localhost:8080/"
        },
        "id": "_jXOxQkb1Q68",
        "outputId": "12a47b17-29f7-40b7-fea6-30a99067e273"
      },
      "execution_count": 7,
      "outputs": [
        {
          "output_type": "execute_result",
          "data": {
            "text/plain": [
              "[2, 6, 10]"
            ]
          },
          "metadata": {},
          "execution_count": 7
        }
      ]
    },
    {
      "cell_type": "code",
      "source": [
        "four_seasons = ('Spring','Summer', 'Autumn', 'Winter')\n",
        "\n",
        "for season in four_seasons:\n",
        "  print(season)"
      ],
      "metadata": {
        "colab": {
          "base_uri": "https://localhost:8080/"
        },
        "id": "n51t8Xdh1uJu",
        "outputId": "d278b846-40c7-483e-bd4a-bbb75cac506c"
      },
      "execution_count": 10,
      "outputs": [
        {
          "output_type": "stream",
          "name": "stdout",
          "text": [
            "Spring\n",
            "Summer\n",
            "Autumn\n",
            "Winter\n"
          ]
        }
      ]
    },
    {
      "cell_type": "code",
      "source": [
        "# range()\n",
        "# 정수 범위를 만들어 낼 때 유용 for문과 자주 사용되는 함수\n",
        "\n",
        "# range(start, stop, step)  #start(0부터), step(1씩 증가)은 생략 가능\n",
        "\n",
        "print(list(range(5))) # 시작생략, 스텝생략 0,1,2,3,4 =0부터 5미만\n",
        "print(list(range(1, 11))) #step 생략\n",
        "print(tuple(range(5)))"
      ],
      "metadata": {
        "colab": {
          "base_uri": "https://localhost:8080/"
        },
        "id": "PPuqhC2k2Gmy",
        "outputId": "a9624d47-40a8-4ab4-82ef-bb67ba5cce62"
      },
      "execution_count": 15,
      "outputs": [
        {
          "output_type": "stream",
          "name": "stdout",
          "text": [
            "[0, 1, 2, 3, 4]\n",
            "[1, 2, 3, 4, 5, 6, 7, 8, 9, 10]\n",
            "(0, 1, 2, 3, 4)\n"
          ]
        }
      ]
    },
    {
      "cell_type": "code",
      "source": [
        "for i in range(5):\n",
        "  print(i)"
      ],
      "metadata": {
        "colab": {
          "base_uri": "https://localhost:8080/"
        },
        "id": "HeV3-ygT3hg3",
        "outputId": "7f6ce948-c61c-4800-f9e1-323a63e2d430"
      },
      "execution_count": 16,
      "outputs": [
        {
          "output_type": "stream",
          "name": "stdout",
          "text": [
            "0\n",
            "1\n",
            "2\n",
            "3\n",
            "4\n"
          ]
        }
      ]
    },
    {
      "cell_type": "code",
      "source": [
        "for i in range(1, 11):\n",
        "  print(i)"
      ],
      "metadata": {
        "colab": {
          "base_uri": "https://localhost:8080/"
        },
        "id": "4a81aF373lxn",
        "outputId": "155605bd-1935-44ba-a06b-2c5ada741e2c"
      },
      "execution_count": 17,
      "outputs": [
        {
          "output_type": "stream",
          "name": "stdout",
          "text": [
            "1\n",
            "2\n",
            "3\n",
            "4\n",
            "5\n",
            "6\n",
            "7\n",
            "8\n",
            "9\n",
            "10\n"
          ]
        }
      ]
    },
    {
      "cell_type": "code",
      "source": [
        "for item in {'가위', '바위', '보'}:\n",
        "  print(item)"
      ],
      "metadata": {
        "colab": {
          "base_uri": "https://localhost:8080/"
        },
        "id": "C_yOGqXF4feK",
        "outputId": "62dac2fd-730f-49b9-980d-5b9d32c5c61c"
      },
      "execution_count": 19,
      "outputs": [
        {
          "output_type": "stream",
          "name": "stdout",
          "text": [
            "가위\n",
            "보\n",
            "바위\n"
          ]
        }
      ]
    },
    {
      "cell_type": "code",
      "source": [
        "person = {\n",
        "    'name':'에밀리',\n",
        "    'age':20\n",
        "}\n",
        "\n",
        "for item in person:\n",
        "  print(item, person[item])"
      ],
      "metadata": {
        "colab": {
          "base_uri": "https://localhost:8080/"
        },
        "id": "sPxNYm4A4uVx",
        "outputId": "0db855ec-4608-4f32-b339-c2831ac42eee"
      },
      "execution_count": 23,
      "outputs": [
        {
          "output_type": "stream",
          "name": "stdout",
          "text": [
            "name 에밀리\n",
            "age 20\n"
          ]
        }
      ]
    },
    {
      "cell_type": "code",
      "source": [
        "#129p 1\n",
        "for i in range(5):\n",
        "  print(5-i)"
      ],
      "metadata": {
        "colab": {
          "base_uri": "https://localhost:8080/"
        },
        "id": "ynIB3Vgp3p4i",
        "outputId": "eed4e278-5418-45ff-f6a6-9018376d3032"
      },
      "execution_count": 18,
      "outputs": [
        {
          "output_type": "stream",
          "name": "stdout",
          "text": [
            "5\n",
            "4\n",
            "3\n",
            "2\n",
            "1\n"
          ]
        }
      ]
    },
    {
      "cell_type": "code",
      "source": [
        "# 129\n",
        "# 1\n",
        "\n",
        "for i in range(5, 0, -1):\n",
        "  print(i)"
      ],
      "metadata": {
        "colab": {
          "base_uri": "https://localhost:8080/"
        },
        "id": "uHgxL83n55lX",
        "outputId": "6cb9a268-f80f-44a5-f2cd-e65243e36042"
      },
      "execution_count": 25,
      "outputs": [
        {
          "output_type": "stream",
          "name": "stdout",
          "text": [
            "5\n",
            "4\n",
            "3\n",
            "2\n",
            "1\n"
          ]
        }
      ]
    },
    {
      "cell_type": "code",
      "source": [
        "#129 2\n",
        "num = int(input('임의의 양수를 입력하세요 >> '))\n",
        "sum = 0\n",
        "\n",
        "for i in range(num):\n",
        "  sum = sum + (i+1)\n",
        "\n",
        "print(f'1부터 {num}사이의 모든 정수의 합계는 {sum}입니다.')"
      ],
      "metadata": {
        "colab": {
          "base_uri": "https://localhost:8080/"
        },
        "id": "fQUjb_4_5Y4m",
        "outputId": "ca8bf264-bf06-46d7-eca2-f9c56022938b"
      },
      "execution_count": 28,
      "outputs": [
        {
          "output_type": "stream",
          "name": "stdout",
          "text": [
            "임의의 양수를 입력하세요 >> 5\n",
            "1부터 5사이의 모든 정수의 합계는 15입니다.\n"
          ]
        }
      ]
    },
    {
      "cell_type": "code",
      "source": [
        "# 129\n",
        "# 2\n",
        "\n",
        "no = int(input('임의의 양수를 입력하세요 >> '))\n",
        "sum = 0\n",
        "\n",
        "for i in range(1,no+1):\n",
        "  sum = sum+i\n",
        "\n",
        "print(f'1부터 {no}사이의 모든 정수의 합계는 {sum}입니다.')"
      ],
      "metadata": {
        "colab": {
          "base_uri": "https://localhost:8080/"
        },
        "id": "6KcU_MD26yAv",
        "outputId": "31b53267-691b-494d-fc5c-2ad5b118b831"
      },
      "execution_count": 29,
      "outputs": [
        {
          "output_type": "stream",
          "name": "stdout",
          "text": [
            "임의의 양수를 입력하세요 >> 5\n",
            "1부터 5사이의 모든 정수의 합계는 15입니다.\n"
          ]
        }
      ]
    },
    {
      "cell_type": "code",
      "source": [
        "#129 3\n",
        "no = int(input('몇개의 과일을 보관할까요? >> '))\n",
        "basket = list(0 for i in range(no))\n",
        "\n",
        "for i in range(no):\n",
        "  basket[i] = input('과일을 입력하세요 >> ')\n",
        "\n",
        "print(basket)\n"
      ],
      "metadata": {
        "colab": {
          "base_uri": "https://localhost:8080/"
        },
        "id": "QkYEmZmY7nR1",
        "outputId": "6e3144b8-78b2-430e-c1a0-f297491ae01a"
      },
      "execution_count": 43,
      "outputs": [
        {
          "output_type": "stream",
          "name": "stdout",
          "text": [
            "몇개의 과일을 보관할까요? >> 3\n",
            "과일을 입력하세요 >> 바나나\n",
            "과일을 입력하세요 >> 사과\n",
            "과일을 입력하세요 >> 파인애플\n",
            "['바나나', '사과', '파인애플']\n"
          ]
        }
      ]
    },
    {
      "cell_type": "code",
      "source": [
        "# 129\n",
        "# 3\n",
        "no = int(input(\"몇 개의 과일을 보관일까요? >> \"))\n",
        "basket = []\n",
        "\n",
        "for i in range(1, no+1):\n",
        "  fruit = input(f'{i}번째 과일을 입력하세요 >> ')\n",
        "  basket.append(fruit)\n",
        "\n",
        "print(basket)\n"
      ],
      "metadata": {
        "colab": {
          "base_uri": "https://localhost:8080/"
        },
        "id": "jYlMnPBaAUoF",
        "outputId": "0d4efef9-b436-42e4-9798-1baad8a8a1ff"
      },
      "execution_count": 48,
      "outputs": [
        {
          "output_type": "stream",
          "name": "stdout",
          "text": [
            "몇 개의 과일을 보관일까요? >> 2\n",
            "1번째 과일을 입력하세요 >> 바나나\n",
            "2번째 과일을 입력하세요 >> 사과\n",
            "['바나나', '사과']\n"
          ]
        }
      ]
    },
    {
      "cell_type": "code",
      "source": [
        "#130 4\n",
        "exam = [99,78,100,91,81,54,100,71,50]\n",
        "score = []\n",
        "for i in range(len(exam)):\n",
        "  score.append(min(100, exam[i]+5))\n",
        "\n",
        "print(score)"
      ],
      "metadata": {
        "colab": {
          "base_uri": "https://localhost:8080/"
        },
        "id": "y7hU2Kk4Abwo",
        "outputId": "bd7e846f-e594-4a61-bf9a-f15692148a3d"
      },
      "execution_count": 68,
      "outputs": [
        {
          "output_type": "stream",
          "name": "stdout",
          "text": [
            "[100, 83, 100, 96, 86, 59, 100, 76, 55]\n"
          ]
        }
      ]
    },
    {
      "cell_type": "code",
      "source": [
        "#130 4\n",
        "exam = [99,78,100,91,81,54,100,71,50]\n",
        "\n",
        "score = []\n",
        "for i in exam:\n",
        "  if i >= 95:\n",
        "    score.append(100)\n",
        "  else:\n",
        "    score.append(i+5)\n",
        "\n",
        "print(score)\n"
      ],
      "metadata": {
        "colab": {
          "base_uri": "https://localhost:8080/"
        },
        "id": "fm0HmzCCDLjj",
        "outputId": "83f2a0f9-dc42-46d1-a68f-e1ffd64ba7e4"
      },
      "execution_count": 61,
      "outputs": [
        {
          "output_type": "stream",
          "name": "stdout",
          "text": [
            "[100, 83, 100, 96, 86, 59, 100, 76, 55]\n"
          ]
        }
      ]
    },
    {
      "cell_type": "code",
      "source": [
        "# break\n",
        "\n",
        "# while 문이나 for문에서 반복을  강제로 종료시킬 때 사용\n",
        "\n",
        "n = 1\n",
        "while True:\n",
        "  print(n)\n",
        "  if n == 10:\n",
        "    break\n",
        "  n += 1"
      ],
      "metadata": {
        "colab": {
          "base_uri": "https://localhost:8080/"
        },
        "id": "EeHbMLY1DRpv",
        "outputId": "ffaf4dd4-ac94-44e1-e09f-5b078ed0d750"
      },
      "execution_count": 72,
      "outputs": [
        {
          "output_type": "stream",
          "name": "stdout",
          "text": [
            "1\n",
            "2\n",
            "3\n",
            "4\n",
            "5\n",
            "6\n",
            "7\n",
            "8\n",
            "9\n",
            "10\n"
          ]
        }
      ]
    },
    {
      "cell_type": "code",
      "source": [
        "# continue\n",
        "\n",
        "# 반복 도중에 continue를 만나면 더이상 아래로 내려가지 않고 \n",
        "# 다시 반복문으로 진입한다. \n",
        "\n",
        "total = 0\n",
        "for a in range(1,101):\n",
        "  if a % 3 == 0 : # 3의 배수찾기\n",
        "    continue      # 3의 배수를 제외한 합\n",
        "  total += a\n",
        "print(total)"
      ],
      "metadata": {
        "colab": {
          "base_uri": "https://localhost:8080/"
        },
        "id": "iRhvbeeiPTSb",
        "outputId": "57669c80-f6a0-44e1-d2e1-34d4f0c91d65"
      },
      "execution_count": 90,
      "outputs": [
        {
          "output_type": "stream",
          "name": "stdout",
          "text": [
            "3367\n"
          ]
        }
      ]
    },
    {
      "cell_type": "code",
      "source": [
        "#141 1\n",
        "money = 10000\n",
        "\n",
        "print(f'현재 {money}원이 있습니다.')\n",
        "while True:\n",
        "  a = int(input(\"사용할 금액 입력 >> \"))\n",
        "\n",
        "  if a < 0:\n",
        "    print(\"0 이하의 금액은 사용할 수 없습니다.\")\n",
        "  else:   \n",
        "    if money < a:\n",
        "      print(f'{-(money-a)}원이 부족합니다')\n",
        "      print(f'현재 {money}원이 있습니다.')\n",
        "    else: \n",
        "      money = money-a\n",
        "      print(f'현재 {money}원이 있습니다.')\n",
        "      if money == 0:\n",
        "        break\n",
        "      \n",
        "    \n",
        "  "
      ],
      "metadata": {
        "colab": {
          "base_uri": "https://localhost:8080/"
        },
        "id": "GeKEml3JGhDX",
        "outputId": "d4d053e8-68ac-4bc5-d19e-b71fdb6447fc"
      },
      "execution_count": 88,
      "outputs": [
        {
          "output_type": "stream",
          "name": "stdout",
          "text": [
            "현재 10000원이 있습니다.\n",
            "사용할 금액 입력 >> 5000\n",
            "현재 5000원이 있습니다.\n",
            "사용할 금액 입력 >> -4500\n",
            "0 이하의 금액은 사용할 수 없습니다.\n",
            "사용할 금액 입력 >> 4500\n",
            "현재 500원이 있습니다.\n",
            "사용할 금액 입력 >> 700\n",
            "200원이 부족합니다\n",
            "현재 500원이 있습니다.\n",
            "사용할 금액 입력 >> 200\n",
            "현재 300원이 있습니다.\n",
            "사용할 금액 입력 >> 300\n",
            "현재 0원이 있습니다.\n"
          ]
        }
      ]
    },
    {
      "cell_type": "code",
      "source": [
        "cash = 10000\n",
        "\n",
        "while True:\n",
        "  print(f'현재 {cash}원이 있습니다.')\n",
        "  if cash == 0:\n",
        "    break\n",
        "  pay = int(input('사용할 금액 입력 >> '))\n",
        "  if pay <= 0:\n",
        "    print('0이하의 금액은 사용할 수 없습니다.')\n",
        "  elif pay > cash:\n",
        "    print(f'{pay-cash}원이 부족합니다.')\n",
        "  else:\n",
        "    cash -= pay"
      ],
      "metadata": {
        "colab": {
          "base_uri": "https://localhost:8080/"
        },
        "id": "xIXPIZP6NwHt",
        "outputId": "d5460fdb-7b33-4124-e0e0-4e8028c344d2"
      },
      "execution_count": 89,
      "outputs": [
        {
          "output_type": "stream",
          "name": "stdout",
          "text": [
            "현재 10000원이 있습니다.\n",
            "사용할 금액 입력 >> 5000\n",
            "현재 5000원이 있습니다.\n",
            "사용할 금액 입력 >> -4500\n",
            "0이하의 금액은 사용할 수 없습니다.\n",
            "현재 5000원이 있습니다.\n",
            "사용할 금액 입력 >> 4500\n",
            "현재 500원이 있습니다.\n",
            "사용할 금액 입력 >> 700\n",
            "200원이 부족합니다.\n",
            "현재 500원이 있습니다.\n",
            "사용할 금액 입력 >> 300\n",
            "현재 200원이 있습니다.\n",
            "사용할 금액 입력 >> 200\n",
            "현재 0원이 있습니다.\n"
          ]
        }
      ]
    },
    {
      "cell_type": "code",
      "source": [
        "#141 2\n",
        "while True:\n",
        "  score = int(input('이번 영화의 평점을 입력하세요 >> '))\n",
        "  if score > 5 or score < 0:\n",
        "    print('평점을 1~5 사이만 입력할 수 있습니다.')\n",
        "  else:\n",
        "    print(f\"평점 : {'★'*score}\")\n",
        "    break"
      ],
      "metadata": {
        "colab": {
          "base_uri": "https://localhost:8080/"
        },
        "id": "QzMBcYwdJ8Ht",
        "outputId": "c179877e-f654-40c6-8c77-50072bea9caf"
      },
      "execution_count": 91,
      "outputs": [
        {
          "output_type": "stream",
          "name": "stdout",
          "text": [
            "이번 영화의 평점을 입력하세요 >> 10\n",
            "평점을 1~5 사이만 입력할 수 있습니다.\n",
            "이번 영화의 평점을 입력하세요 >> -2\n",
            "평점을 1~5 사이만 입력할 수 있습니다.\n",
            "이번 영화의 평점을 입력하세요 >> 4\n",
            "평점 : ★★★★\n"
          ]
        }
      ]
    },
    {
      "cell_type": "code",
      "source": [
        "#141 3\n",
        "pw = 'qwerty'\n",
        "for i in range(5):\n",
        "  pw2 = input('비밀번호를 입력하세요 >> ')\n",
        "  if pw2 == pw:\n",
        "    print('비밀번호를 맞혔습니다.')\n",
        "    break\n",
        "  if i == 4:\n",
        "    print('비밀번호 입력 횟수를 초과했습니다.')"
      ],
      "metadata": {
        "colab": {
          "base_uri": "https://localhost:8080/"
        },
        "id": "KGFTTsNfLizN",
        "outputId": "8554343a-ad6a-436d-cf3f-a6218f9078b4"
      },
      "execution_count": 94,
      "outputs": [
        {
          "output_type": "stream",
          "name": "stdout",
          "text": [
            "비밀번호를 입력하세요 >> lwkef\n",
            "비밀번호를 입력하세요 >> qwerty\n",
            "비밀번호를 맞혔습니다.\n"
          ]
        }
      ]
    },
    {
      "cell_type": "code",
      "source": [
        "password = 'qwerty'\n",
        "tryno = 0\n",
        "while True:\n",
        "  if tryno == 5:\n",
        "    print('비밀번호 입력 횟수를 초과했습니다.')\n",
        "    break\n",
        "  inpass = input('비밀번호를 입력하세요 >>> ')\n",
        "  if password == inpass:\n",
        "    print('비밀번호를 맞혔습니다.')\n",
        "    break\n",
        "  tryno += 1"
      ],
      "metadata": {
        "colab": {
          "base_uri": "https://localhost:8080/"
        },
        "id": "jpJxlaXrT1Mm",
        "outputId": "c1d22931-a92d-4d05-fa65-0985b8f79f13"
      },
      "execution_count": 100,
      "outputs": [
        {
          "output_type": "stream",
          "name": "stdout",
          "text": [
            "비밀번호를 입력하세요 >>> sdkjfs\n",
            "비밀번호를 입력하세요 >>> woen\n",
            "비밀번호를 입력하세요 >>> qwerty\n",
            "비밀번호를 맞혔습니다.\n"
          ]
        }
      ]
    },
    {
      "cell_type": "code",
      "source": [
        "# 143 4\n",
        "for i in range(3, 10, 2):\n",
        "  for j in range(1, i+1):\n",
        "      print(f'{i} * {j} = {i*j}')\n",
        "  print()"
      ],
      "metadata": {
        "colab": {
          "base_uri": "https://localhost:8080/"
        },
        "id": "PlpsXb_hSCD3",
        "outputId": "aff7f0c0-4055-425d-d3c6-4c776083dedf"
      },
      "execution_count": 109,
      "outputs": [
        {
          "output_type": "stream",
          "name": "stdout",
          "text": [
            "3 * 1 = 3\n",
            "3 * 2 = 6\n",
            "3 * 3 = 9\n",
            "\n",
            "5 * 1 = 5\n",
            "5 * 2 = 10\n",
            "5 * 3 = 15\n",
            "5 * 4 = 20\n",
            "5 * 5 = 25\n",
            "\n",
            "7 * 1 = 7\n",
            "7 * 2 = 14\n",
            "7 * 3 = 21\n",
            "7 * 4 = 28\n",
            "7 * 5 = 35\n",
            "7 * 6 = 42\n",
            "7 * 7 = 49\n",
            "\n",
            "9 * 1 = 9\n",
            "9 * 2 = 18\n",
            "9 * 3 = 27\n",
            "9 * 4 = 36\n",
            "9 * 5 = 45\n",
            "9 * 6 = 54\n",
            "9 * 7 = 63\n",
            "9 * 8 = 72\n",
            "9 * 9 = 81\n",
            "\n"
          ]
        }
      ]
    },
    {
      "cell_type": "code",
      "source": [
        "for i in range(2, 10):\n",
        "  for j in range(1, 10):\n",
        "      print(f'{i} * {j} = {i*j}')\n",
        "  print()"
      ],
      "metadata": {
        "colab": {
          "base_uri": "https://localhost:8080/"
        },
        "id": "EWgoxHfKUwMB",
        "outputId": "511bd79b-c15f-4c6a-b62f-a9b504f18157"
      },
      "execution_count": 102,
      "outputs": [
        {
          "output_type": "stream",
          "name": "stdout",
          "text": [
            "2 * 1 = 2\n",
            "2 * 2 = 4\n",
            "2 * 3 = 6\n",
            "2 * 4 = 8\n",
            "2 * 5 = 10\n",
            "2 * 6 = 12\n",
            "2 * 7 = 14\n",
            "2 * 8 = 16\n",
            "2 * 9 = 18\n",
            "\n",
            "3 * 1 = 3\n",
            "3 * 2 = 6\n",
            "3 * 3 = 9\n",
            "3 * 4 = 12\n",
            "3 * 5 = 15\n",
            "3 * 6 = 18\n",
            "3 * 7 = 21\n",
            "3 * 8 = 24\n",
            "3 * 9 = 27\n",
            "\n",
            "4 * 1 = 4\n",
            "4 * 2 = 8\n",
            "4 * 3 = 12\n",
            "4 * 4 = 16\n",
            "4 * 5 = 20\n",
            "4 * 6 = 24\n",
            "4 * 7 = 28\n",
            "4 * 8 = 32\n",
            "4 * 9 = 36\n",
            "\n",
            "5 * 1 = 5\n",
            "5 * 2 = 10\n",
            "5 * 3 = 15\n",
            "5 * 4 = 20\n",
            "5 * 5 = 25\n",
            "5 * 6 = 30\n",
            "5 * 7 = 35\n",
            "5 * 8 = 40\n",
            "5 * 9 = 45\n",
            "\n",
            "6 * 1 = 6\n",
            "6 * 2 = 12\n",
            "6 * 3 = 18\n",
            "6 * 4 = 24\n",
            "6 * 5 = 30\n",
            "6 * 6 = 36\n",
            "6 * 7 = 42\n",
            "6 * 8 = 48\n",
            "6 * 9 = 54\n",
            "\n",
            "7 * 1 = 7\n",
            "7 * 2 = 14\n",
            "7 * 3 = 21\n",
            "7 * 4 = 28\n",
            "7 * 5 = 35\n",
            "7 * 6 = 42\n",
            "7 * 7 = 49\n",
            "7 * 8 = 56\n",
            "7 * 9 = 63\n",
            "\n",
            "8 * 1 = 8\n",
            "8 * 2 = 16\n",
            "8 * 3 = 24\n",
            "8 * 4 = 32\n",
            "8 * 5 = 40\n",
            "8 * 6 = 48\n",
            "8 * 7 = 56\n",
            "8 * 8 = 64\n",
            "8 * 9 = 72\n",
            "\n",
            "9 * 1 = 9\n",
            "9 * 2 = 18\n",
            "9 * 3 = 27\n",
            "9 * 4 = 36\n",
            "9 * 5 = 45\n",
            "9 * 6 = 54\n",
            "9 * 7 = 63\n",
            "9 * 8 = 72\n",
            "9 * 9 = 81\n",
            "\n"
          ]
        }
      ]
    },
    {
      "cell_type": "code",
      "source": [
        "for i in range(1, 10, 2):\n",
        "  for j in range(1, 10):\n",
        "    print(f'{i} * {j} = {i*j}')\n",
        "  print()"
      ],
      "metadata": {
        "colab": {
          "base_uri": "https://localhost:8080/"
        },
        "id": "-Tmgl_Q2VBZ3",
        "outputId": "f807aab7-6afd-458d-97f8-527ce602e9ee"
      },
      "execution_count": 106,
      "outputs": [
        {
          "output_type": "stream",
          "name": "stdout",
          "text": [
            "1 * 1 = 1\n",
            "1 * 2 = 2\n",
            "1 * 3 = 3\n",
            "1 * 4 = 4\n",
            "1 * 5 = 5\n",
            "1 * 6 = 6\n",
            "1 * 7 = 7\n",
            "1 * 8 = 8\n",
            "1 * 9 = 9\n",
            "\n",
            "3 * 1 = 3\n",
            "3 * 2 = 6\n",
            "3 * 3 = 9\n",
            "3 * 4 = 12\n",
            "3 * 5 = 15\n",
            "3 * 6 = 18\n",
            "3 * 7 = 21\n",
            "3 * 8 = 24\n",
            "3 * 9 = 27\n",
            "\n",
            "5 * 1 = 5\n",
            "5 * 2 = 10\n",
            "5 * 3 = 15\n",
            "5 * 4 = 20\n",
            "5 * 5 = 25\n",
            "5 * 6 = 30\n",
            "5 * 7 = 35\n",
            "5 * 8 = 40\n",
            "5 * 9 = 45\n",
            "\n",
            "7 * 1 = 7\n",
            "7 * 2 = 14\n",
            "7 * 3 = 21\n",
            "7 * 4 = 28\n",
            "7 * 5 = 35\n",
            "7 * 6 = 42\n",
            "7 * 7 = 49\n",
            "7 * 8 = 56\n",
            "7 * 9 = 63\n",
            "\n",
            "9 * 1 = 9\n",
            "9 * 2 = 18\n",
            "9 * 3 = 27\n",
            "9 * 4 = 36\n",
            "9 * 5 = 45\n",
            "9 * 6 = 54\n",
            "9 * 7 = 63\n",
            "9 * 8 = 72\n",
            "9 * 9 = 81\n",
            "\n"
          ]
        }
      ]
    },
    {
      "cell_type": "code",
      "source": [
        "for i in range(2, 10):\n",
        "  for j in range(1, 10):\n",
        "    if i % 2 == 0:\n",
        "      continue\n",
        "    elif j > i:\n",
        "      break\n",
        "    else:\n",
        "      print(f'{i} * {j} = {i*j}')\n",
        "  print()"
      ],
      "metadata": {
        "colab": {
          "base_uri": "https://localhost:8080/"
        },
        "id": "qSFhPMITW57v",
        "outputId": "9a5b37c9-419b-4221-eecf-92910c9a2c60"
      },
      "execution_count": 112,
      "outputs": [
        {
          "output_type": "stream",
          "name": "stdout",
          "text": [
            "\n",
            "3 * 1 = 3\n",
            "3 * 2 = 6\n",
            "3 * 3 = 9\n",
            "\n",
            "\n",
            "5 * 1 = 5\n",
            "5 * 2 = 10\n",
            "5 * 3 = 15\n",
            "5 * 4 = 20\n",
            "5 * 5 = 25\n",
            "\n",
            "\n",
            "7 * 1 = 7\n",
            "7 * 2 = 14\n",
            "7 * 3 = 21\n",
            "7 * 4 = 28\n",
            "7 * 5 = 35\n",
            "7 * 6 = 42\n",
            "7 * 7 = 49\n",
            "\n",
            "\n",
            "9 * 1 = 9\n",
            "9 * 2 = 18\n",
            "9 * 3 = 27\n",
            "9 * 4 = 36\n",
            "9 * 5 = 45\n",
            "9 * 6 = 54\n",
            "9 * 7 = 63\n",
            "9 * 8 = 72\n",
            "9 * 9 = 81\n",
            "\n"
          ]
        }
      ]
    }
  ]
}