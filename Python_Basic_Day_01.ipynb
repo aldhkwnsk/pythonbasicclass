{
  "nbformat": 4,
  "nbformat_minor": 0,
  "metadata": {
    "colab": {
      "name": "Python Basic Day 01.ipynb",
      "provenance": [],
      "collapsed_sections": [],
      "authorship_tag": "ABX9TyOgsyZznl4lkeJcI96X/cHl",
      "include_colab_link": true
    },
    "kernelspec": {
      "name": "python3",
      "display_name": "Python 3"
    },
    "language_info": {
      "name": "python"
    }
  },
  "cells": [
    {
      "cell_type": "markdown",
      "metadata": {
        "id": "view-in-github",
        "colab_type": "text"
      },
      "source": [
        "<a href=\"https://colab.research.google.com/github/aldhkwnsk/pythonbasicclass/blob/main/Python_Basic_Day_01.ipynb\" target=\"_parent\"><img src=\"https://colab.research.google.com/assets/colab-badge.svg\" alt=\"Open In Colab\"/></a>"
      ]
    },
    {
      "cell_type": "markdown",
      "source": [
        "파이썬\n",
        "\n",
        "강사님 이메일\n",
        "austiny@snu.ac.kr\n",
        "austiny@gatech.edu\n",
        "\n",
        "https://open.kakao.com/o/gbUUp0Zd\n",
        "단톡방은 공지용입니다. 질문은 개인 카톡\n",
        "awesomeclass 로 주세요\n",
        "\n",
        "수업용 홈페이지\n",
        "austiny.snu.ac.kr\n",
        "(크롬은 보안으로 접근이 어렵습니다.\n",
        "익스플로러나 엣지를 사용하세요)"
      ],
      "metadata": {
        "id": "uZeKf46S6e5F"
      }
    },
    {
      "cell_type": "markdown",
      "source": [
        "**파이썬이란**\n",
        "```\n",
        "*1991* 네덜란드 '귀도 반 로섬'에 의해 개발된 언어\n",
        "본래 '비단뱀'이라는 뜻을 가지고 있어 로고 등 대부분의 로고등을 뱀으로 나타낸다.\n",
        "```\n",
        "\n",
        "\n",
        "\n",
        "\n",
        "    \n",
        "\n"
      ],
      "metadata": {
        "id": "w7i24Ny76aZX"
      }
    },
    {
      "cell_type": "markdown",
      "source": [
        "**파이썬의 특징**\n",
        "```\n",
        "1. 파이썬은 인터프리터 언어이다.(컴파일러 아님)\n",
        "    *인터프리터 : 한줄씩 해석하는 언어\n",
        "2. 플랫폼에 독립적이다.\n",
        "3. 객체 지향 언어이다.\n",
        "4. 동적 타이핑 언어이다.\n",
        "5. 개발속도가 빠르다.\n",
        "\n",
        "* 개발 환경 - 웹 : colab\n",
        "              로컬 : Anaconda or vs code\n",
        "```"
      ],
      "metadata": {
        "id": "P3BeMbuS-PsQ"
      }
    },
    {
      "cell_type": "markdown",
      "source": [
        "**주석 Comment**\n",
        "\n",
        "```\n",
        "코드에 설명을 작성하는 부분\n",
        "주석은 프로그램 실행에 전혀 영향을 주지 않는다.\n",
        "주석은 '#' 기호를 사용하거나 '''내용''' 혹은 \"\"\"내용\"\"\"\n",
        "    ''',\"\"\"를 사용하는 주석은 실제 주석이 아니라 주석처럼 보이게 하는 것\n",
        "```"
      ],
      "metadata": {
        "id": "-AtgJz7K-Vry"
      }
    },
    {
      "cell_type": "code",
      "execution_count": 3,
      "metadata": {
        "colab": {
          "base_uri": "https://localhost:8080/"
        },
        "id": "D1JL_F2X2Gor",
        "outputId": "bc25c3e0-6e53-4878-8190-af91a3186713"
      },
      "outputs": [
        {
          "output_type": "stream",
          "name": "stdout",
          "text": [
            "7.0685834705770345\n",
            "반지름을 입력받아 원의 넓이를 반환하는 get_area()함수\n"
          ]
        }
      ],
      "source": [
        "''' Docstring이라고 함(Comment아님): 컴퓨터가 읽음\n",
        "파일명 : Ex02-1.py\n",
        "개요 : 반지름을 전달하면 원의 넓이를 반환\n",
        "작성자 : 홍길동\n",
        "작성일 : 2020-0825\n",
        "'''\n",
        "\n",
        "# math 모듈을 포함 : 진짜 주석\n",
        "import math\n",
        "\n",
        "def get_area(radius):\n",
        "  \"\"\"반지름을 입력받아 원의 넓이를 반환하는 get_area()함수\"\"\"\n",
        "  area = math.pi * math.pow(radius,2)\n",
        "  return area\n",
        "\n",
        "radius = 1.5\n",
        "# get_area()함수 호출 결과를 area변수에 저장\n",
        "area = get_area(radius)\n",
        "print(area) # area를 출력한다.\n",
        "print(get_area.__doc__)\n"
      ]
    },
    {
      "cell_type": "markdown",
      "source": [
        "**변수 Variable**\n",
        "```\n",
        "어떤 데이터를 저장할 때 사용되는 저장소\n",
        "```\n",
        "**변수 이름 생성 규칙**\n",
        "```\n",
        "1. 영문, 한글, 숫자, 밑줄로 구성된다.(한글은 변수명으로 사용하지 말자)\n",
        "2. 특수문자는 사용할 수 없다.\n",
        "3. 대문자와 소문자는 구분한다.\n",
        "4. 변수명의 첫문자에는 숫자를 쓸 수 없다.\n",
        "5. 예약어(키워드)는 사용할 수 없다.\n",
        "\n",
        "* 가급적 소문자로만 만든다.\n",
        "* 한글도 가급적 사용하지 않는다.\n",
        "* 가급적 의미있는 단어를 사용한다.\n",
        "```"
      ],
      "metadata": {
        "id": "RxHuLNdCCPaH"
      }
    },
    {
      "cell_type": "code",
      "source": [
        "score = 100   # score라는 이름의 변수에 100을 넣는다.\n",
        "print(score)\n",
        "\n",
        "A = 100\n",
        "a = 200\n",
        "\n",
        "print(A)\n",
        "print(a)"
      ],
      "metadata": {
        "colab": {
          "base_uri": "https://localhost:8080/"
        },
        "id": "ApUhlOc9COY3",
        "outputId": "a89756c0-0c09-4765-b1ff-47d89495c4af"
      },
      "execution_count": 6,
      "outputs": [
        {
          "output_type": "stream",
          "name": "stdout",
          "text": [
            "100\n",
            "100\n",
            "200\n"
          ]
        }
      ]
    },
    {
      "cell_type": "code",
      "source": [
        "name = 'Alice'\n",
        "age = 25\n",
        "\n",
        "address = '''우편번호 1234\n",
        "서울시 영등포구 영의도동\n",
        "서울빌딩 501호'''\n",
        "\n",
        "address2 = '우편번호 1234 서울시 영등포구 영의도동 서울빌딩 501호' # 줄바꿈인식 못함 \\n으로 줄바꿈 해줘야 함\n",
        "\n",
        "boyfriend = None\n",
        "height = 168.5\n",
        "\n",
        "print(name)\n",
        "print(age)\n",
        "print(address)\n",
        "print(address2)\n",
        "print(boyfriend)\n",
        "print(height)"
      ],
      "metadata": {
        "colab": {
          "base_uri": "https://localhost:8080/"
        },
        "id": "ssyRUYEMJaze",
        "outputId": "5dc58838-d1df-488d-ee96-83e1bf0d44fa"
      },
      "execution_count": 11,
      "outputs": [
        {
          "output_type": "stream",
          "name": "stdout",
          "text": [
            "Alice\n",
            "25\n",
            "우편번호 1234\n",
            "서울시 영등포구 영의도동\n",
            "서울빌딩 501호\n",
            "우편번호 1234 서울시 영등포구 영의도동 서울빌딩 501호\n",
            "None\n",
            "168.5\n"
          ]
        }
      ]
    }
  ]
}