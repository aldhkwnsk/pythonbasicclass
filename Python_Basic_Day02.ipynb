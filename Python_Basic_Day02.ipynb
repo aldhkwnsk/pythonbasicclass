{
  "nbformat": 4,
  "nbformat_minor": 0,
  "metadata": {
    "colab": {
      "name": "Python Basic Day02.ipynb",
      "provenance": [],
      "collapsed_sections": [],
      "authorship_tag": "ABX9TyNAXvusYkHKiQSH8qs73vtS",
      "include_colab_link": true
    },
    "kernelspec": {
      "name": "python3",
      "display_name": "Python 3"
    },
    "language_info": {
      "name": "python"
    }
  },
  "cells": [
    {
      "cell_type": "markdown",
      "metadata": {
        "id": "view-in-github",
        "colab_type": "text"
      },
      "source": [
        "<a href=\"https://colab.research.google.com/github/aldhkwnsk/pythonbasicclass/blob/main/Python_Basic_Day02.ipynb\" target=\"_parent\"><img src=\"https://colab.research.google.com/assets/colab-badge.svg\" alt=\"Open In Colab\"/></a>"
      ]
    },
    {
      "cell_type": "markdown",
      "source": [
        "**기본 자료형(page33)**\n",
        "```\n",
        "int 정수 1,2,3,4\n",
        "float 실수 3.14, 2.18\n",
        "bool 논리 True, False\n",
        "str 문자열 '홍길동', '슈가'\n",
        "```"
      ],
      "metadata": {
        "id": "0gzIb9qW_9EK"
      }
    },
    {
      "cell_type": "markdown",
      "source": [
        "**정수형**"
      ],
      "metadata": {
        "id": "EpMQPm4AD-kR"
      }
    },
    {
      "cell_type": "code",
      "execution_count": null,
      "metadata": {
        "colab": {
          "base_uri": "https://localhost:8080/"
        },
        "id": "lBiFokxl_o23",
        "outputId": "6efd8590-021b-45c2-83db-60be8dece8f1"
      },
      "outputs": [
        {
          "output_type": "execute_result",
          "data": {
            "text/plain": [
              "1"
            ]
          },
          "metadata": {},
          "execution_count": 4
        }
      ],
      "source": [
        "int(True) #1"
      ]
    },
    {
      "cell_type": "code",
      "source": [
        "int(False) #0"
      ],
      "metadata": {
        "colab": {
          "base_uri": "https://localhost:8080/"
        },
        "id": "10fnrkIKDUtq",
        "outputId": "253f9f19-80c3-4153-d06e-91b213e060e7"
      },
      "execution_count": null,
      "outputs": [
        {
          "output_type": "execute_result",
          "data": {
            "text/plain": [
              "0"
            ]
          },
          "metadata": {},
          "execution_count": 5
        }
      ]
    },
    {
      "cell_type": "code",
      "source": [
        "int('100') # 문자'100'을 숫자 100으로 바꿔줌 = 출력은 숫자 100"
      ],
      "metadata": {
        "colab": {
          "base_uri": "https://localhost:8080/"
        },
        "id": "QdAA_4duDfIc",
        "outputId": "7b3f5a7f-921b-47f4-c8bc-bfeba5a9f6a7"
      },
      "execution_count": null,
      "outputs": [
        {
          "output_type": "execute_result",
          "data": {
            "text/plain": [
              "100"
            ]
          },
          "metadata": {},
          "execution_count": 9
        }
      ]
    },
    {
      "cell_type": "code",
      "source": [
        "n=95\n",
        "bin(n) # 2진수"
      ],
      "metadata": {
        "colab": {
          "base_uri": "https://localhost:8080/",
          "height": 35
        },
        "id": "nkByQe26D8A-",
        "outputId": "5636dc4e-a617-484c-f383-01dbcb371eed"
      },
      "execution_count": null,
      "outputs": [
        {
          "output_type": "execute_result",
          "data": {
            "application/vnd.google.colaboratory.intrinsic+json": {
              "type": "string"
            },
            "text/plain": [
              "'0b1011111'"
            ]
          },
          "metadata": {},
          "execution_count": 10
        }
      ]
    },
    {
      "cell_type": "code",
      "source": [
        "oct(n) # 8진수 변환"
      ],
      "metadata": {
        "colab": {
          "base_uri": "https://localhost:8080/",
          "height": 35
        },
        "id": "tNKTuev2EJia",
        "outputId": "c473eed7-86ad-40ce-d1a3-ab2baa44da2a"
      },
      "execution_count": null,
      "outputs": [
        {
          "output_type": "execute_result",
          "data": {
            "application/vnd.google.colaboratory.intrinsic+json": {
              "type": "string"
            },
            "text/plain": [
              "'0o137'"
            ]
          },
          "metadata": {},
          "execution_count": 11
        }
      ]
    },
    {
      "cell_type": "code",
      "source": [
        "hex(n) # 16진수 변환"
      ],
      "metadata": {
        "colab": {
          "base_uri": "https://localhost:8080/",
          "height": 35
        },
        "id": "vHRK-KoOEO8A",
        "outputId": "6aaddea6-d8bf-4548-a3c5-182a9eb27ca4"
      },
      "execution_count": null,
      "outputs": [
        {
          "output_type": "execute_result",
          "data": {
            "application/vnd.google.colaboratory.intrinsic+json": {
              "type": "string"
            },
            "text/plain": [
              "'0x5f'"
            ]
          },
          "metadata": {},
          "execution_count": 12
        }
      ]
    },
    {
      "cell_type": "markdown",
      "source": [
        "**실수**"
      ],
      "metadata": {
        "id": "ERS4lU9uEVPs"
      }
    },
    {
      "cell_type": "code",
      "source": [
        "float(1) # 정수를 실수로 변경"
      ],
      "metadata": {
        "colab": {
          "base_uri": "https://localhost:8080/"
        },
        "id": "XYbh0rCwEhuD",
        "outputId": "49b6cb9c-6188-4a0f-dfed-ef564ee466c5"
      },
      "execution_count": null,
      "outputs": [
        {
          "output_type": "execute_result",
          "data": {
            "text/plain": [
              "1.0"
            ]
          },
          "metadata": {},
          "execution_count": 13
        }
      ]
    },
    {
      "cell_type": "code",
      "source": [
        "float(False)"
      ],
      "metadata": {
        "colab": {
          "base_uri": "https://localhost:8080/"
        },
        "id": "4qUdVQJ2Em5f",
        "outputId": "07d74b4f-0a41-4613-8fb4-fdbb36f71df8"
      },
      "execution_count": null,
      "outputs": [
        {
          "output_type": "execute_result",
          "data": {
            "text/plain": [
              "0.0"
            ]
          },
          "metadata": {},
          "execution_count": 14
        }
      ]
    },
    {
      "cell_type": "code",
      "source": [
        "float('238.3') # 문자를 실수로"
      ],
      "metadata": {
        "colab": {
          "base_uri": "https://localhost:8080/"
        },
        "id": "ye5uMgbBEsUc",
        "outputId": "b42f3788-79b3-4b5f-adac-2461515adaee"
      },
      "execution_count": null,
      "outputs": [
        {
          "output_type": "execute_result",
          "data": {
            "text/plain": [
              "238.3"
            ]
          },
          "metadata": {},
          "execution_count": 15
        }
      ]
    },
    {
      "cell_type": "code",
      "source": [
        "input('문자를 입력하세요 >> ') # input은 모든 입력을 문자로만 받는다."
      ],
      "metadata": {
        "colab": {
          "base_uri": "https://localhost:8080/",
          "height": 52
        },
        "id": "CRGN1DZFFNHR",
        "outputId": "6c75a6b7-1e6c-4485-c995-daba1ee67b2d"
      },
      "execution_count": null,
      "outputs": [
        {
          "name": "stdout",
          "output_type": "stream",
          "text": [
            "문자를 입력하세요 >> 123\n"
          ]
        },
        {
          "output_type": "execute_result",
          "data": {
            "application/vnd.google.colaboratory.intrinsic+json": {
              "type": "string"
            },
            "text/plain": [
              "'123'"
            ]
          },
          "metadata": {},
          "execution_count": 16
        }
      ]
    },
    {
      "cell_type": "code",
      "source": [
        "int(input('문자를 입력하세요 >> '))"
      ],
      "metadata": {
        "colab": {
          "base_uri": "https://localhost:8080/"
        },
        "id": "vvXZHoyBFXHQ",
        "outputId": "5161db71-6c34-4b62-bd90-5c8b8b8f8ed1"
      },
      "execution_count": null,
      "outputs": [
        {
          "name": "stdout",
          "output_type": "stream",
          "text": [
            "문자를 입력하세요 >> 123\n"
          ]
        },
        {
          "output_type": "execute_result",
          "data": {
            "text/plain": [
              "123"
            ]
          },
          "metadata": {},
          "execution_count": 17
        }
      ]
    },
    {
      "cell_type": "markdown",
      "source": [
        "**논리**\n",
        "```\n",
        "false : 거짓 :  n = False : 0, (), '', {} : 아무것도 없는것( ex리스트 안에 아무것도 없음[])\n",
        "True : 참 : n =True : False의 모든 값\n",
        "```"
      ],
      "metadata": {
        "id": "MHh-W9tyF3JV"
      }
    },
    {
      "cell_type": "code",
      "source": [
        "bool('')"
      ],
      "metadata": {
        "colab": {
          "base_uri": "https://localhost:8080/"
        },
        "id": "ND0sbbmwF4vE",
        "outputId": "2648c915-239f-46d1-e5b6-ab92c6fa3edc"
      },
      "execution_count": null,
      "outputs": [
        {
          "output_type": "execute_result",
          "data": {
            "text/plain": [
              "False"
            ]
          },
          "metadata": {},
          "execution_count": 18
        }
      ]
    },
    {
      "cell_type": "code",
      "source": [
        "bool([])"
      ],
      "metadata": {
        "colab": {
          "base_uri": "https://localhost:8080/"
        },
        "id": "DiF22XcsGkhO",
        "outputId": "2458b8ec-0452-4373-c33d-6aa5631cbe0b"
      },
      "execution_count": null,
      "outputs": [
        {
          "output_type": "execute_result",
          "data": {
            "text/plain": [
              "False"
            ]
          },
          "metadata": {},
          "execution_count": 19
        }
      ]
    },
    {
      "cell_type": "code",
      "source": [
        "bool(3)"
      ],
      "metadata": {
        "colab": {
          "base_uri": "https://localhost:8080/"
        },
        "id": "glHbENLYGnPF",
        "outputId": "33d9d1fc-d5f9-4d68-dd07-67cfaebb4492"
      },
      "execution_count": null,
      "outputs": [
        {
          "output_type": "execute_result",
          "data": {
            "text/plain": [
              "True"
            ]
          },
          "metadata": {},
          "execution_count": 20
        }
      ]
    },
    {
      "cell_type": "markdown",
      "source": [
        "**문자열**"
      ],
      "metadata": {
        "id": "Yis89SLdHBpV"
      }
    },
    {
      "cell_type": "code",
      "source": [
        "a = '한국'\n",
        "b = '한국'\n",
        "\n",
        "a = '''대한\n",
        "민국'''\n",
        "b = \"\"\"대한\n",
        "민국\"\"\"\n",
        "\n",
        "print(a)"
      ],
      "metadata": {
        "colab": {
          "base_uri": "https://localhost:8080/"
        },
        "id": "nEep8IiDHCqS",
        "outputId": "9d4d41c9-6e28-42bf-a40c-6b5a1ca1d469"
      },
      "execution_count": null,
      "outputs": [
        {
          "output_type": "stream",
          "name": "stdout",
          "text": [
            "대한\n",
            "민국\n"
          ]
        }
      ]
    },
    {
      "cell_type": "code",
      "source": [
        "str('111')"
      ],
      "metadata": {
        "colab": {
          "base_uri": "https://localhost:8080/",
          "height": 35
        },
        "id": "WLjeeUf3IHzT",
        "outputId": "d0328cc5-c103-4d12-c910-e7ad63512bf1"
      },
      "execution_count": null,
      "outputs": [
        {
          "output_type": "execute_result",
          "data": {
            "application/vnd.google.colaboratory.intrinsic+json": {
              "type": "string"
            },
            "text/plain": [
              "'111'"
            ]
          },
          "metadata": {},
          "execution_count": 24
        }
      ]
    },
    {
      "cell_type": "code",
      "source": [
        "str(True)"
      ],
      "metadata": {
        "colab": {
          "base_uri": "https://localhost:8080/",
          "height": 35
        },
        "id": "LIAhgBtfIKrj",
        "outputId": "b2b32c3c-b372-414f-8ee7-d6c51e28f85a"
      },
      "execution_count": null,
      "outputs": [
        {
          "output_type": "execute_result",
          "data": {
            "application/vnd.google.colaboratory.intrinsic+json": {
              "type": "string"
            },
            "text/plain": [
              "'True'"
            ]
          },
          "metadata": {},
          "execution_count": 25
        }
      ]
    },
    {
      "cell_type": "markdown",
      "source": [
        "**문자열 인덱싱**\n",
        "\n",
        "인덱싱은 문자열을 구성하는 모든 문자에 부여한 고유의 번호"
      ],
      "metadata": {
        "id": "aTSUL7-BIisq"
      }
    },
    {
      "cell_type": "code",
      "source": [
        "s = 'hello'\n",
        "print(s)\n",
        "print(s[0])"
      ],
      "metadata": {
        "colab": {
          "base_uri": "https://localhost:8080/"
        },
        "id": "lAjWY-u1Ikzw",
        "outputId": "8e6cc6ed-1587-4aad-b9d1-72217e306739"
      },
      "execution_count": null,
      "outputs": [
        {
          "output_type": "stream",
          "name": "stdout",
          "text": [
            "hello\n",
            "h\n"
          ]
        }
      ]
    },
    {
      "cell_type": "code",
      "source": [
        "# h e l l o\n",
        "#         -1(인덱스 번호)\n",
        "print(s[4])\n",
        "print(s[-1])\n",
        "print(s[-5])"
      ],
      "metadata": {
        "colab": {
          "base_uri": "https://localhost:8080/"
        },
        "id": "vQYsWm57MvIC",
        "outputId": "78ef1fe2-f790-427b-cffc-e2f810f9d58d"
      },
      "execution_count": null,
      "outputs": [
        {
          "output_type": "stream",
          "name": "stdout",
          "text": [
            "o\n",
            "o\n",
            "h\n"
          ]
        }
      ]
    },
    {
      "cell_type": "markdown",
      "source": [
        "**문자열 슬라이싱**\n",
        "\n",
        "문지열의 인덱스를 사용하여 한문자 이상으로 구성된 단어나 문장을 추출"
      ],
      "metadata": {
        "id": "xGQP3Dc0Omwq"
      }
    },
    {
      "cell_type": "code",
      "source": [
        "s = 'banana'\n",
        "s[0:3] # [시작인덱스 : 끝 인덱스] : 끝은 포함되지 않는다."
      ],
      "metadata": {
        "colab": {
          "base_uri": "https://localhost:8080/",
          "height": 35
        },
        "id": "oFxp6weXPFZ4",
        "outputId": "01bcbe1a-27bc-4df7-d65b-337cf03c87f5"
      },
      "execution_count": null,
      "outputs": [
        {
          "output_type": "execute_result",
          "data": {
            "application/vnd.google.colaboratory.intrinsic+json": {
              "type": "string"
            },
            "text/plain": [
              "'ban'"
            ]
          },
          "metadata": {},
          "execution_count": 33
        }
      ]
    },
    {
      "cell_type": "code",
      "source": [
        "addr = '서울시 강남구 역삼동 1번지'\n",
        "print(addr[4:7]) # 끝은 포함되지 않는다."
      ],
      "metadata": {
        "colab": {
          "base_uri": "https://localhost:8080/"
        },
        "id": "nLvrG5QzPSgj",
        "outputId": "041f776c-def3-48c8-c5e4-10f3eee85e61"
      },
      "execution_count": null,
      "outputs": [
        {
          "output_type": "stream",
          "name": "stdout",
          "text": [
            "강남구\n"
          ]
        }
      ]
    },
    {
      "cell_type": "markdown",
      "source": [
        "**컬렉션**\n",
        "\n",
        "여러 값을 하나의 이르으로 묶어서 관리하는 자료형\n",
        "\n",
        "튜플() 리스트[] 딕셔너리{} 셋"
      ],
      "metadata": {
        "id": "eYF38eVnQV9S"
      }
    },
    {
      "cell_type": "markdown",
      "source": [
        "**리스트**\n",
        "\n",
        "리스트는 여러 값을 저장할 때 가장 많이 사용되는 자료형이다.\n",
        "\n",
        "<특징>\n",
        "\n",
        "1. 대괄호로 생성[]\n",
        "2. 여러가지 자료형을 하나의 리스트로 생성할 수 있다.\n",
        "3. **mutable** 한 속성을 갖는다.(수정.삭제가 **가능하다**.)\n",
        "4. indexing, slicing 이 **가능하다.**"
      ],
      "metadata": {
        "id": "N_xeNSEERMU0"
      }
    },
    {
      "cell_type": "code",
      "source": [
        "list = [1,2,3,4]\n",
        "list2 = [1,2,3,'대','한',True] # 여러 자료형을 섞을 수 있지만 권장하지 않음"
      ],
      "metadata": {
        "id": "Tj0iEL_EQYyq"
      },
      "execution_count": null,
      "outputs": []
    },
    {
      "cell_type": "code",
      "source": [
        "li = [100, 3.24, 'hello']\n",
        "li[2]"
      ],
      "metadata": {
        "colab": {
          "base_uri": "https://localhost:8080/",
          "height": 35
        },
        "id": "0uDfaVzUUFPh",
        "outputId": "92c5ef35-9fb2-4719-8d81-2de8f103a5a3"
      },
      "execution_count": null,
      "outputs": [
        {
          "output_type": "execute_result",
          "data": {
            "application/vnd.google.colaboratory.intrinsic+json": {
              "type": "string"
            },
            "text/plain": [
              "'hello'"
            ]
          },
          "metadata": {},
          "execution_count": 37
        }
      ]
    },
    {
      "cell_type": "code",
      "source": [
        "li[0:3] # [start : stop]\n",
        "li[0:] # 지정부터 끝까지\n",
        "li[:] # 처음부터 끝까지"
      ],
      "metadata": {
        "colab": {
          "base_uri": "https://localhost:8080/"
        },
        "id": "uirmWrO6Uzf6",
        "outputId": "4c0b9543-e61d-4c1e-94fb-96807538ac94"
      },
      "execution_count": null,
      "outputs": [
        {
          "output_type": "execute_result",
          "data": {
            "text/plain": [
              "[100, 3.24, 'hello']"
            ]
          },
          "metadata": {},
          "execution_count": 43
        }
      ]
    },
    {
      "cell_type": "code",
      "source": [
        "scores = [50,40,30]\n",
        "\n",
        "#리스트 수정\n",
        "# append() - 리스트에 데이터를 추가\n",
        "scores.append(100)\n",
        "\n",
        "scores\n"
      ],
      "metadata": {
        "colab": {
          "base_uri": "https://localhost:8080/"
        },
        "id": "vLVIpySVVi8Q",
        "outputId": "193c9b4a-e08e-4228-d26a-00d27b86be4b"
      },
      "execution_count": null,
      "outputs": [
        {
          "output_type": "execute_result",
          "data": {
            "text/plain": [
              "[50, 40, 30, 100]"
            ]
          },
          "metadata": {},
          "execution_count": 47
        }
      ]
    },
    {
      "cell_type": "code",
      "source": [
        "# insert() - 리스트에 데이터를 추가\n",
        "scores.insert(0, 90) # insert(위치, 데이터)\n",
        "scores"
      ],
      "metadata": {
        "colab": {
          "base_uri": "https://localhost:8080/"
        },
        "id": "xer9ZOERW5XO",
        "outputId": "24d85dc7-3986-4be3-d40b-175cfa9555b8"
      },
      "execution_count": null,
      "outputs": [
        {
          "output_type": "execute_result",
          "data": {
            "text/plain": [
              "[90, 50, 40, 30, 100]"
            ]
          },
          "metadata": {},
          "execution_count": 48
        }
      ]
    },
    {
      "cell_type": "code",
      "source": [
        "# pop() - 리스트에서 데이터 삭제\n",
        "scores = [50,40,30]\n",
        "scores.pop() # pop() 괄호안을 생략하면 마지막 값을 삭제"
      ],
      "metadata": {
        "colab": {
          "base_uri": "https://localhost:8080/"
        },
        "id": "gcTOca49XmLB",
        "outputId": "606448b8-1744-4706-b8ea-67861fc32e27"
      },
      "execution_count": null,
      "outputs": [
        {
          "output_type": "execute_result",
          "data": {
            "text/plain": [
              "30"
            ]
          },
          "metadata": {},
          "execution_count": 51
        }
      ]
    },
    {
      "cell_type": "code",
      "source": [
        "scores.pop(0) # 인덱스 지정하면 그 인덱스 값 삭제"
      ],
      "metadata": {
        "colab": {
          "base_uri": "https://localhost:8080/"
        },
        "id": "b4xlp_e-aUNB",
        "outputId": "890b3bd8-2cef-4a3b-cb35-1d2a80a24b11"
      },
      "execution_count": null,
      "outputs": [
        {
          "output_type": "execute_result",
          "data": {
            "text/plain": [
              "50"
            ]
          },
          "metadata": {},
          "execution_count": 53
        }
      ]
    },
    {
      "cell_type": "code",
      "source": [
        "scores"
      ],
      "metadata": {
        "colab": {
          "base_uri": "https://localhost:8080/"
        },
        "id": "fEVet1PYajao",
        "outputId": "b1589fb6-d54c-453d-bf43-ac31222883e8"
      },
      "execution_count": null,
      "outputs": [
        {
          "output_type": "execute_result",
          "data": {
            "text/plain": [
              "[40]"
            ]
          },
          "metadata": {},
          "execution_count": 54
        }
      ]
    },
    {
      "cell_type": "markdown",
      "source": [
        "**튜플**\n",
        "\n",
        "저장된 값을 변경할 수 없는 리스트\n",
        "\n",
        "<특징>\n",
        "\n",
        "1. 소괄호로 생성() *튜플은 괄호 생략 가능*\n",
        "2. 여러가지 자료형을 하나의 튜플로 생성할 수 있다.\n",
        "3. **immutable** 한 속성을 갖는다.(수정.삭제가 **불가능**하다.)\n",
        "4. indexing, slicing 이 **가능하다.**\n",
        "5. 1개의 원소를 갖는 튜플을 생성할 때는 ,쉼표를 붙인다."
      ],
      "metadata": {
        "id": "CTlDbha3avfO"
      }
    },
    {
      "cell_type": "code",
      "source": [
        "li = [1]\n",
        "print(li)\n",
        "print(type(li))\n",
        "\n",
        "tuple = (1) # 튜플이 아닌 정수로 저장\n",
        "print(tuple)\n",
        "print(type(tuple))\n",
        "\n",
        "tuple = (1,)\n",
        "print(tuple)\n",
        "print(type(tuple))"
      ],
      "metadata": {
        "colab": {
          "base_uri": "https://localhost:8080/"
        },
        "id": "dr2fOpL2auv4",
        "outputId": "bb9f1021-9ff4-41a7-e9a8-93866d6bb67e"
      },
      "execution_count": null,
      "outputs": [
        {
          "output_type": "stream",
          "name": "stdout",
          "text": [
            "[1]\n",
            "<class 'list'>\n",
            "1\n",
            "<class 'int'>\n",
            "(1,)\n",
            "<class 'tuple'>\n"
          ]
        }
      ]
    },
    {
      "cell_type": "code",
      "source": [
        "# tuple.append(6) 삽입 불가\n",
        "# tuple.pop() 삭제 불가"
      ],
      "metadata": {
        "colab": {
          "base_uri": "https://localhost:8080/",
          "height": 183
        },
        "id": "xLPBWiPmc9gh",
        "outputId": "36990965-a5bc-43ce-8855-02b34e6f1a93"
      },
      "execution_count": null,
      "outputs": [
        {
          "output_type": "error",
          "ename": "AttributeError",
          "evalue": "ignored",
          "traceback": [
            "\u001b[0;31m---------------------------------------------------------------------------\u001b[0m",
            "\u001b[0;31mAttributeError\u001b[0m                            Traceback (most recent call last)",
            "\u001b[0;32m<ipython-input-60-8d1cb92dd5a0>\u001b[0m in \u001b[0;36m<module>\u001b[0;34m()\u001b[0m\n\u001b[1;32m      1\u001b[0m \u001b[0;31m# tuple.append(6)\u001b[0m\u001b[0;34m\u001b[0m\u001b[0;34m\u001b[0m\u001b[0;34m\u001b[0m\u001b[0m\n\u001b[0;32m----> 2\u001b[0;31m \u001b[0mtuple\u001b[0m\u001b[0;34m.\u001b[0m\u001b[0mpop\u001b[0m\u001b[0;34m(\u001b[0m\u001b[0;34m)\u001b[0m\u001b[0;34m\u001b[0m\u001b[0;34m\u001b[0m\u001b[0m\n\u001b[0m",
            "\u001b[0;31mAttributeError\u001b[0m: 'tuple' object has no attribute 'pop'"
          ]
        }
      ]
    },
    {
      "cell_type": "code",
      "source": [
        "tuple = 1,2,3,4,5 # () 생략 가능\n",
        "tuple[0]"
      ],
      "metadata": {
        "colab": {
          "base_uri": "https://localhost:8080/"
        },
        "id": "my38t93wdXXL",
        "outputId": "c7b9343f-9b9c-47da-9131-0e2b4fd54f15"
      },
      "execution_count": null,
      "outputs": [
        {
          "output_type": "execute_result",
          "data": {
            "text/plain": [
              "1"
            ]
          },
          "metadata": {},
          "execution_count": 62
        }
      ]
    },
    {
      "cell_type": "code",
      "source": [
        "tuple[1:3]"
      ],
      "metadata": {
        "colab": {
          "base_uri": "https://localhost:8080/"
        },
        "id": "tbEzz5bBdhvX",
        "outputId": "5998ad3c-2a14-41b8-e5d7-1f7ef50f4c66"
      },
      "execution_count": null,
      "outputs": [
        {
          "output_type": "execute_result",
          "data": {
            "text/plain": [
              "(2, 3)"
            ]
          },
          "metadata": {},
          "execution_count": 64
        }
      ]
    },
    {
      "cell_type": "markdown",
      "source": [
        "**셋**\n",
        "\n",
        "<특징>\n",
        "\n",
        "1. 중괄호로 생성{}\n",
        "2. 여러가지 자료형을 하나의 셋을 생성할 수 있다.\n",
        "3. **mutable** 한 속성을 갖는다.(수정.삭제가 **가능하다**.)\n",
        "4. indexing, slicing 이 **불가능**하다.\n",
        "5. **중복된 데이터를 함께 저장할 수 없다.**(중복불가)"
      ],
      "metadata": {
        "id": "sbSvgADceTGj"
      }
    },
    {
      "cell_type": "code",
      "source": [
        "set = {1,1,2,3}\n",
        "set # 중복된 데이터가 날아감"
      ],
      "metadata": {
        "colab": {
          "base_uri": "https://localhost:8080/"
        },
        "id": "8XSz_BBAfDfh",
        "outputId": "1ce74a82-5eec-4fe9-a05f-a0a0920bcaff"
      },
      "execution_count": null,
      "outputs": [
        {
          "output_type": "execute_result",
          "data": {
            "text/plain": [
              "{1, 2, 3}"
            ]
          },
          "metadata": {},
          "execution_count": 73
        }
      ]
    },
    {
      "cell_type": "code",
      "source": [
        "set.add(4)\n",
        "set"
      ],
      "metadata": {
        "colab": {
          "base_uri": "https://localhost:8080/"
        },
        "id": "NNnLUIRMfzF7",
        "outputId": "b46b9895-0424-4740-964a-3ee021df5c11"
      },
      "execution_count": null,
      "outputs": [
        {
          "output_type": "execute_result",
          "data": {
            "text/plain": [
              "{1, 2, 3, 4}"
            ]
          },
          "metadata": {},
          "execution_count": 74
        }
      ]
    },
    {
      "cell_type": "code",
      "source": [
        "set.remove(3)\n",
        "set"
      ],
      "metadata": {
        "colab": {
          "base_uri": "https://localhost:8080/"
        },
        "id": "n_PGGFTxf_fC",
        "outputId": "088467b7-fb84-4b66-cc46-ebb707fcfcf8"
      },
      "execution_count": null,
      "outputs": [
        {
          "output_type": "execute_result",
          "data": {
            "text/plain": [
              "{1, 2, 4}"
            ]
          },
          "metadata": {},
          "execution_count": 75
        }
      ]
    },
    {
      "cell_type": "markdown",
      "source": [
        "**딕셔너리**\n",
        "\n",
        "키값(key)과 밸류값(value)의 쌍으로 데이터를 저장하는 자료형\n",
        "\n",
        "자바에서의 map, JS에서의 json과 유사한 파이썬의 자료형\n",
        "\n",
        "<특징>\n",
        "\n",
        "1. 중괄호로 생성{}\n",
        "2. 여러가지 자료형을 하나의 셋을 생성할 수 있다.\n",
        "3. **mutable** 한 속성을 갖는다.(수정.삭제가 **가능하다**.)\n",
        "4. indexing, slicing 이 **불가능**하다. 순서가 없다.\n",
        "5. 키와 밸류로 구성한다."
      ],
      "metadata": {
        "id": "NrNbK1OUgLfW"
      }
    },
    {
      "cell_type": "code",
      "source": [
        "dict = {'name':'홍길동', 'age':20}"
      ],
      "metadata": {
        "id": "bnxaFgXJg93L"
      },
      "execution_count": null,
      "outputs": []
    },
    {
      "cell_type": "code",
      "source": [
        "dict = {'a':'apple', 'b':'banana'}\n",
        "dict['a']"
      ],
      "metadata": {
        "colab": {
          "base_uri": "https://localhost:8080/",
          "height": 35
        },
        "id": "LCpyA0DBhpHi",
        "outputId": "78621d19-d648-41d8-c61a-976fdca8847b"
      },
      "execution_count": null,
      "outputs": [
        {
          "output_type": "execute_result",
          "data": {
            "application/vnd.google.colaboratory.intrinsic+json": {
              "type": "string"
            },
            "text/plain": [
              "'apple'"
            ]
          },
          "metadata": {},
          "execution_count": 77
        }
      ]
    },
    {
      "cell_type": "code",
      "source": [
        "dict['c']='cherry'\n",
        "dict"
      ],
      "metadata": {
        "colab": {
          "base_uri": "https://localhost:8080/"
        },
        "id": "vMZYH7k6iUWH",
        "outputId": "ab347598-227d-4d11-ebb1-cdfbcc92f4b3"
      },
      "execution_count": null,
      "outputs": [
        {
          "output_type": "execute_result",
          "data": {
            "text/plain": [
              "{'a': 'apple', 'b': 'banana', 'c': 'cherry'}"
            ]
          },
          "metadata": {},
          "execution_count": 78
        }
      ]
    },
    {
      "cell_type": "code",
      "source": [
        "dict.pop('c')\n",
        "dict"
      ],
      "metadata": {
        "colab": {
          "base_uri": "https://localhost:8080/"
        },
        "id": "8yEQDpubi27l",
        "outputId": "9a12a318-fbc7-4e88-be8c-9618a188e5c3"
      },
      "execution_count": null,
      "outputs": [
        {
          "output_type": "execute_result",
          "data": {
            "text/plain": [
              "{'a': 'apple', 'b': 'banana'}"
            ]
          },
          "metadata": {},
          "execution_count": 79
        }
      ]
    },
    {
      "cell_type": "code",
      "source": [
        "# mutable\n",
        "me = [1,2,3]\n",
        "id(me) # 실제 데이터가 저장된 메모리의 위치"
      ],
      "metadata": {
        "colab": {
          "base_uri": "https://localhost:8080/"
        },
        "id": "aoxeLFl3joN4",
        "outputId": "818f8edb-4303-4b49-d010-adaff621ad95"
      },
      "execution_count": null,
      "outputs": [
        {
          "output_type": "execute_result",
          "data": {
            "text/plain": [
              "140713956620000"
            ]
          },
          "metadata": {},
          "execution_count": 80
        }
      ]
    },
    {
      "cell_type": "code",
      "source": [
        "me.append(4)\n",
        "id(me) # 값이 바귀어도 메모리 위치는 그대로"
      ],
      "metadata": {
        "colab": {
          "base_uri": "https://localhost:8080/"
        },
        "id": "BnyZVrKSjxxm",
        "outputId": "b3477e4b-3207-4b52-e246-e409a6bf3566"
      },
      "execution_count": null,
      "outputs": [
        {
          "output_type": "execute_result",
          "data": {
            "text/plain": [
              "140713956620000"
            ]
          },
          "metadata": {},
          "execution_count": 81
        }
      ]
    },
    {
      "cell_type": "code",
      "source": [
        "# immutable\n",
        "me =10\n",
        "id(me)"
      ],
      "metadata": {
        "colab": {
          "base_uri": "https://localhost:8080/"
        },
        "id": "YgHdPraFkC4O",
        "outputId": "a2147592-ec88-4019-d65c-7669effbcb46"
      },
      "execution_count": null,
      "outputs": [
        {
          "output_type": "execute_result",
          "data": {
            "text/plain": [
              "94068268575520"
            ]
          },
          "metadata": {},
          "execution_count": 85
        }
      ]
    },
    {
      "cell_type": "code",
      "source": [
        "me += 1 # me = me + 1\n",
        "id(me) # 메모리 주소가 바뀜"
      ],
      "metadata": {
        "colab": {
          "base_uri": "https://localhost:8080/"
        },
        "id": "TvP4O1nkkI67",
        "outputId": "7a3a137b-3c72-4da9-9f29-76517de068c4"
      },
      "execution_count": null,
      "outputs": [
        {
          "output_type": "execute_result",
          "data": {
            "text/plain": [
              "94068268575552"
            ]
          },
          "metadata": {},
          "execution_count": 86
        }
      ]
    }
  ]
}