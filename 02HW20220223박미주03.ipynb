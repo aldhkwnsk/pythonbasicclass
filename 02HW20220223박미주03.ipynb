{
  "nbformat": 4,
  "nbformat_minor": 0,
  "metadata": {
    "colab": {
      "name": "02HW20220223박미주03.ipynb",
      "provenance": [],
      "collapsed_sections": [],
      "authorship_tag": "ABX9TyPBap27sD87ts/wBjRxhMm9",
      "include_colab_link": true
    },
    "kernelspec": {
      "name": "python3",
      "display_name": "Python 3"
    },
    "language_info": {
      "name": "python"
    }
  },
  "cells": [
    {
      "cell_type": "markdown",
      "metadata": {
        "id": "view-in-github",
        "colab_type": "text"
      },
      "source": [
        "<a href=\"https://colab.research.google.com/github/aldhkwnsk/pythonbasicclass/blob/main/02HW20220223%EB%B0%95%EB%AF%B8%EC%A3%BC03.ipynb\" target=\"_parent\"><img src=\"https://colab.research.google.com/assets/colab-badge.svg\" alt=\"Open In Colab\"/></a>"
      ]
    },
    {
      "cell_type": "code",
      "execution_count": 1,
      "metadata": {
        "colab": {
          "base_uri": "https://localhost:8080/"
        },
        "id": "lb9E3zbfUPIH",
        "outputId": "f000b099-0234-429a-e8a3-189ee16a8f78"
      },
      "outputs": [
        {
          "output_type": "stream",
          "name": "stdout",
          "text": [
            "['닥터 스트레인지', '스플릿', '럭키']\n"
          ]
        }
      ],
      "source": [
        "#51\n",
        "movie_rank = ['닥터 스트레인지', '스플릿', '럭키']\n",
        "\n",
        "print(movie_rank)"
      ]
    },
    {
      "cell_type": "code",
      "source": [
        "#52\n",
        "movie_rank.append('배트맨')\n",
        "\n",
        "print(movie_rank)"
      ],
      "metadata": {
        "colab": {
          "base_uri": "https://localhost:8080/"
        },
        "id": "Gt03xBLJU4my",
        "outputId": "b3a12bd3-c700-4d3d-d0cf-fb72db4c6491"
      },
      "execution_count": 2,
      "outputs": [
        {
          "output_type": "stream",
          "name": "stdout",
          "text": [
            "['닥터 스트레인지', '스플릿', '럭키', '배트맨']\n"
          ]
        }
      ]
    },
    {
      "cell_type": "code",
      "source": [
        "#53\n",
        "movie_rank.insert(1, '슈퍼맨')\n",
        "\n",
        "print(movie_rank)"
      ],
      "metadata": {
        "colab": {
          "base_uri": "https://localhost:8080/"
        },
        "id": "CFzjGSH-VLVi",
        "outputId": "f24602a7-bfaf-4364-c1c9-8492bec5b441"
      },
      "execution_count": 3,
      "outputs": [
        {
          "output_type": "stream",
          "name": "stdout",
          "text": [
            "['닥터 스트레인지', '슈퍼맨', '스플릿', '럭키', '배트맨']\n"
          ]
        }
      ]
    },
    {
      "cell_type": "code",
      "source": [
        "#54\n",
        "movie_rank.pop(3)\n",
        "\n",
        "print(movie_rank)"
      ],
      "metadata": {
        "colab": {
          "base_uri": "https://localhost:8080/"
        },
        "id": "rZzstMqYVWej",
        "outputId": "b6fdbefe-4f6e-4a3c-a30b-849eeea1f99d"
      },
      "execution_count": 4,
      "outputs": [
        {
          "output_type": "stream",
          "name": "stdout",
          "text": [
            "['닥터 스트레인지', '슈퍼맨', '스플릿', '배트맨']\n"
          ]
        }
      ]
    },
    {
      "cell_type": "code",
      "source": [
        "#55\n",
        "i=0\n",
        "while i<2:\n",
        "  movie_rank.pop()\n",
        "  i += 1\n",
        "\n",
        "print(movie_rank)"
      ],
      "metadata": {
        "colab": {
          "base_uri": "https://localhost:8080/"
        },
        "id": "K1UsxHYxVfEY",
        "outputId": "fec93167-040f-4131-d855-4284176b7aba"
      },
      "execution_count": 5,
      "outputs": [
        {
          "output_type": "stream",
          "name": "stdout",
          "text": [
            "['닥터 스트레인지', '슈퍼맨']\n"
          ]
        }
      ]
    },
    {
      "cell_type": "code",
      "source": [
        "#56\n",
        "lang1 = ['C', 'C++', 'JAVA']\n",
        "lang2 = ['Python', 'Go', 'C#']\n",
        "\n",
        "langs = lang1 + lang2\n",
        "\n",
        "print(langs)"
      ],
      "metadata": {
        "colab": {
          "base_uri": "https://localhost:8080/"
        },
        "id": "yiQIAW0ZWLPe",
        "outputId": "3df0a0e0-0368-4cc1-b5f4-2c8f26f98f63"
      },
      "execution_count": 6,
      "outputs": [
        {
          "output_type": "stream",
          "name": "stdout",
          "text": [
            "['C', 'C++', 'JAVA', 'Python', 'Go', 'C#']\n"
          ]
        }
      ]
    },
    {
      "cell_type": "code",
      "source": [
        "#57\n",
        "nums = [1,2,3,4,5,6,7]\n",
        "\n",
        "print(f'max : {max(nums)}')\n",
        "print(f'min : {min(nums)}')"
      ],
      "metadata": {
        "colab": {
          "base_uri": "https://localhost:8080/"
        },
        "id": "cCIdDS-tWfWi",
        "outputId": "e82ede61-6fca-4368-91ef-bffdef76a9e8"
      },
      "execution_count": 7,
      "outputs": [
        {
          "output_type": "stream",
          "name": "stdout",
          "text": [
            "max : 7\n",
            "min : 1\n"
          ]
        }
      ]
    },
    {
      "cell_type": "code",
      "source": [
        "#58\n",
        "nums = [1,2,3,4,5]\n",
        "\n",
        "print(sum(nums))\n"
      ],
      "metadata": {
        "colab": {
          "base_uri": "https://localhost:8080/"
        },
        "id": "9Ea077GaWumf",
        "outputId": "5771e8c2-d42e-4d00-a841-1806dbdbab65"
      },
      "execution_count": 8,
      "outputs": [
        {
          "output_type": "stream",
          "name": "stdout",
          "text": [
            "15\n"
          ]
        }
      ]
    },
    {
      "cell_type": "code",
      "source": [
        "#59\n",
        "cook = '피자', '김밥', '만두', '양념치킨', '족발', '피자', '피자', '김치만두', '쫄면', '쏘세지', '라면', '팥빙수', '김치전'\n",
        "\n",
        "cook = set(cook)\n",
        "\n",
        "print(len(cook))"
      ],
      "metadata": {
        "colab": {
          "base_uri": "https://localhost:8080/"
        },
        "id": "ip53-ZbHY_Ew",
        "outputId": "da95b582-f3cd-401f-fece-21375ea3e65b"
      },
      "execution_count": 9,
      "outputs": [
        {
          "output_type": "stream",
          "name": "stdout",
          "text": [
            "11\n"
          ]
        }
      ]
    },
    {
      "cell_type": "code",
      "source": [
        "#60\n",
        "nums = [1,2,3,4,5]\n",
        "\n",
        "sum = sum(nums)\n",
        "nums_size = len(nums)\n",
        "\n",
        "print(sum / nums_size)"
      ],
      "metadata": {
        "colab": {
          "base_uri": "https://localhost:8080/"
        },
        "id": "eiDv3wrXaJ6O",
        "outputId": "9116d45e-7917-408f-cfc3-d2b565993e77"
      },
      "execution_count": 10,
      "outputs": [
        {
          "output_type": "stream",
          "name": "stdout",
          "text": [
            "3.0\n"
          ]
        }
      ]
    },
    {
      "cell_type": "code",
      "source": [
        "#121\n",
        "a = input('문자입력 >> ')\n",
        "\n",
        "if a.islower():\n",
        "  a = a.upper()\n",
        "else:\n",
        "  a = a.lower()\n",
        "\n",
        "print(a)"
      ],
      "metadata": {
        "colab": {
          "base_uri": "https://localhost:8080/"
        },
        "id": "H4LvjV6WarEW",
        "outputId": "3ce9c187-23dd-40d1-b7f9-a25f63ea7194"
      },
      "execution_count": 11,
      "outputs": [
        {
          "output_type": "stream",
          "name": "stdout",
          "text": [
            "문자입력 >> a\n",
            "A\n"
          ]
        }
      ]
    },
    {
      "cell_type": "code",
      "source": [
        "score = int(input('점수 >> '))\n",
        "\n",
        "if score > 80:\n",
        "  grade = 'A'\n",
        "elif score > 70:\n",
        "  grade = 'B'\n",
        "elif score > 40:\n",
        "  grade = 'C'\n",
        "elif score > 20:\n",
        "  grade = 'D'\n",
        "else:\n",
        "  grade = 'E'\n",
        "\n",
        "print(f'grade is {grade}')"
      ],
      "metadata": {
        "colab": {
          "base_uri": "https://localhost:8080/"
        },
        "id": "Q41HayXkb9Na",
        "outputId": "1330951a-fb55-4bf6-df43-9cf37018b168"
      },
      "execution_count": 12,
      "outputs": [
        {
          "output_type": "stream",
          "name": "stdout",
          "text": [
            "점수 >> 63\n",
            "grade is C\n"
          ]
        }
      ]
    },
    {
      "cell_type": "code",
      "source": [
        "#123\n",
        "ex_rate = {'달러':1167, '엔':1.096, '유로':1268, '위안':171}\n",
        "\n",
        "amount = input('입력 : ')\n",
        "\n",
        "blank = amount.index(\" \")\n",
        "\n",
        "KRW = (ex_rate[amount[blank+1:]]) * float(amount[:blank])\n",
        "print(KRW)"
      ],
      "metadata": {
        "colab": {
          "base_uri": "https://localhost:8080/"
        },
        "id": "U_4xKJLxcbBs",
        "outputId": "a6f17a38-ca8d-48f5-8257-543f2c570c66"
      },
      "execution_count": 13,
      "outputs": [
        {
          "output_type": "stream",
          "name": "stdout",
          "text": [
            "입력 : 100 달러\n",
            "116700.0\n"
          ]
        }
      ]
    },
    {
      "cell_type": "code",
      "source": [
        "#124\n",
        "n1 = int(input('input number1 : '))\n",
        "n2 = int(input('input number2 : '))\n",
        "n3 = int(input('input number3 : '))\n",
        "\n",
        "if n1 > n1 and n1> n3:\n",
        "  max = n1\n",
        "elif n2 > n1 and n2 > n3:\n",
        "  max = n2\n",
        "else:\n",
        "  max = n3\n",
        "\n",
        "print(max)"
      ],
      "metadata": {
        "colab": {
          "base_uri": "https://localhost:8080/"
        },
        "id": "7fDWrTwVfx72",
        "outputId": "843cd8a9-e613-4682-a02b-f75a28025f44"
      },
      "execution_count": 14,
      "outputs": [
        {
          "output_type": "stream",
          "name": "stdout",
          "text": [
            "input number1 : 4\n",
            "input number2 : 6\n",
            "input number3 : 2\n",
            "6\n"
          ]
        }
      ]
    },
    {
      "cell_type": "code",
      "source": [
        "#125\n",
        "agency = {'011':'SKT', '016':'KT', '019':'LGU', '010':'알수없음'}\n",
        "\n",
        "phone_num = input('휴대전화 번호 입력 : ')\n",
        "\n",
        "print(f'당신은 {agency[phone_num[:3]]} 사용자 입니다.')"
      ],
      "metadata": {
        "colab": {
          "base_uri": "https://localhost:8080/"
        },
        "id": "1PdqDdk-gNbm",
        "outputId": "3d52d904-a0eb-488f-dbcf-c5d7a95dfbdb"
      },
      "execution_count": 15,
      "outputs": [
        {
          "output_type": "stream",
          "name": "stdout",
          "text": [
            "휴대전화 번호 입력 : 011-123-5434\n",
            "당신은 SKT 사용자 입니다.\n"
          ]
        }
      ]
    },
    {
      "cell_type": "code",
      "source": [
        "#126\n",
        "area = {'010':'강북구',\n",
        "        '011':'강북구',\n",
        "        '012':'강북구',\n",
        "        '013':'도봉구',\n",
        "        '014':'도봉구',\n",
        "        '015':'도봉구',\n",
        "        '016':'노원구',\n",
        "        '017':'노원구',\n",
        "        '018':'노원구',\n",
        "        '019':'노원구',\n",
        "        }\n",
        "\n",
        "code = input('우편번호 : ')\n",
        "print(area[code[:3]])"
      ],
      "metadata": {
        "colab": {
          "base_uri": "https://localhost:8080/"
        },
        "id": "OYicauwfhVN1",
        "outputId": "110e7e92-099d-4293-e54a-209e27145ae9"
      },
      "execution_count": 16,
      "outputs": [
        {
          "output_type": "stream",
          "name": "stdout",
          "text": [
            "우편번호 : 01234\n",
            "강북구\n"
          ]
        }
      ]
    },
    {
      "cell_type": "code",
      "source": [
        "#127\n",
        "re_num = input('주민등록번호 : ')\n",
        "\n",
        "if int(re_num[7]) % 2 != 0:\n",
        "  print('남자')\n",
        "else:\n",
        "  print('여자')"
      ],
      "metadata": {
        "colab": {
          "base_uri": "https://localhost:8080/"
        },
        "id": "basEBDTSiUuV",
        "outputId": "fe110f48-b029-4172-fb4c-4aef4015f7f9"
      },
      "execution_count": 17,
      "outputs": [
        {
          "output_type": "stream",
          "name": "stdout",
          "text": [
            "주민등록번호 : 010101-1362977\n",
            "남자\n"
          ]
        }
      ]
    },
    {
      "cell_type": "code",
      "source": [
        "#128\n",
        "re_num = input('주민등록번호 : ')\n",
        "\n",
        "if int(re_num[8]) + int(re_num[9]) < 9:\n",
        "  print('서울입니다.')\n",
        "else:\n",
        "  print('서울이 아닙니다.')\n"
      ],
      "metadata": {
        "id": "5Yhr-w8_jI_4",
        "colab": {
          "base_uri": "https://localhost:8080/"
        },
        "outputId": "720ff124-c839-4af6-e73c-183f26f2e954"
      },
      "execution_count": 56,
      "outputs": [
        {
          "output_type": "stream",
          "name": "stdout",
          "text": [
            "주민등록번호 : 861010-1015210\n",
            "서울입니다.\n"
          ]
        }
      ]
    },
    {
      "cell_type": "code",
      "source": [
        "test = '12323-1241'\n",
        "test.replace('-', \"\")"
      ],
      "metadata": {
        "colab": {
          "base_uri": "https://localhost:8080/",
          "height": 35
        },
        "id": "lTrHMhQrchKZ",
        "outputId": "d055cf96-023b-47ec-ee24-ad6b496b7670"
      },
      "execution_count": 33,
      "outputs": [
        {
          "output_type": "execute_result",
          "data": {
            "application/vnd.google.colaboratory.intrinsic+json": {
              "type": "string"
            },
            "text/plain": [
              "'123231241'"
            ]
          },
          "metadata": {},
          "execution_count": 33
        }
      ]
    },
    {
      "cell_type": "code",
      "source": [
        "#129\n",
        "mul_num = [2,3,4,5,6,7,8,9,2,3,4,5]\n",
        "\n",
        "i = 0\n",
        "result = 0\n",
        "\n",
        "re_num = input('주민등록번호 : ')\n",
        "re_num = list(map(int,re_num.replace('-', \"\")))\n",
        "\n",
        "while i < 12:\n",
        "  result += re_num[i]*mul_num[i]\n",
        "  i += 1\n",
        "\n",
        "if 11 - (result % 11) == re_num[12]:\n",
        "  print('유효한 주민등록번호 입니다.')\n",
        "else:\n",
        "  print('유효하지 않은 주민등록번호 입니다.')\n",
        "# i=0\n",
        "\n",
        "# while i < 12:\n",
        "#   m_num[i]*"
      ],
      "metadata": {
        "colab": {
          "base_uri": "https://localhost:8080/"
        },
        "id": "-ah7YJ1QX5iq",
        "outputId": "b556d641-8af7-42ce-de90-02cdd0a34adc"
      },
      "execution_count": 48,
      "outputs": [
        {
          "output_type": "stream",
          "name": "stdout",
          "text": [
            "주민등록번호 : 821010-1635210\n",
            "유효하지 않은 주민등록번호 입니다.\n"
          ]
        }
      ]
    },
    {
      "cell_type": "code",
      "source": [
        "#130\n",
        "import requests\n",
        "btc = requests.get(\"https://api.bithumb.com/public/ticker/\").json()['data']\n",
        "\n",
        "fluctuation_range = int(btc[\"max_price\"])-int(btc[\"min_price\"])\n",
        "\n",
        "if int(btc[\"opening_price\"])+int(btc[\"opening_price\"]) > int(btc[\"max_price\"]):\n",
        "  print('상승장')\n",
        "else:\n",
        "  print('하락장')"
      ],
      "metadata": {
        "colab": {
          "base_uri": "https://localhost:8080/"
        },
        "id": "Tmm7JOBRey1Z",
        "outputId": "4b2ee382-7e21-4526-aa99-23204bd74620"
      },
      "execution_count": 54,
      "outputs": [
        {
          "output_type": "stream",
          "name": "stdout",
          "text": [
            "상승장\n"
          ]
        }
      ]
    }
  ]
}