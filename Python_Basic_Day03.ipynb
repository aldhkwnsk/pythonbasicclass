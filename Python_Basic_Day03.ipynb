{
  "nbformat": 4,
  "nbformat_minor": 0,
  "metadata": {
    "colab": {
      "name": "Python_Basic_Day03.ipynb",
      "provenance": [],
      "collapsed_sections": [],
      "authorship_tag": "ABX9TyNof+FzGYX4Ds6HOOWxTI1p",
      "include_colab_link": true
    },
    "kernelspec": {
      "name": "python3",
      "display_name": "Python 3"
    },
    "language_info": {
      "name": "python"
    }
  },
  "cells": [
    {
      "cell_type": "markdown",
      "metadata": {
        "id": "view-in-github",
        "colab_type": "text"
      },
      "source": [
        "<a href=\"https://colab.research.google.com/github/aldhkwnsk/pythonbasicclass/blob/main/Python_Basic_Day03.ipynb\" target=\"_parent\"><img src=\"https://colab.research.google.com/assets/colab-badge.svg\" alt=\"Open In Colab\"/></a>"
      ]
    },
    {
      "cell_type": "markdown",
      "source": [
        "list tuple dict set\n",
        "```\n",
        "list   []  indexing/slicing  mutable(del삭제, ins수정삽입)  [1]\n",
        "tuple  ()  indexing/slicing  immutable                      (1,)\n",
        "dict   {}    x(unordered)    mutable(del, ins)              {'key':'vales'}\n",
        "set    {}    x(unordered)    mutable(del, ins)              {1,2,3}\n",
        "```"
      ],
      "metadata": {
        "id": "F-AEIp2nSz2D"
      }
    },
    {
      "cell_type": "code",
      "execution_count": 16,
      "metadata": {
        "colab": {
          "base_uri": "https://localhost:8080/"
        },
        "id": "Z3kDDe3HSdUD",
        "outputId": "428c5e41-0301-48cc-9d3c-1534e57153a7"
      },
      "outputs": [
        {
          "output_type": "stream",
          "name": "stdout",
          "text": [
            "3 학년 10 반 25 번\n",
            "3학년 10반 25번\n"
          ]
        }
      ],
      "source": [
        "# str = '31025'\n",
        "# print(str[:1]+'학년 '+str[1:3]+'반 '+str[3:]+'번')\n",
        "\n",
        "no = '31025'\n",
        "a = no[0] # indexing\n",
        "b = no[1:3] #slicing\n",
        "c = no[3:] #slicing\n",
        "\n",
        "\n",
        "print(a,'학년', b,'반', c, '번')\n",
        "print(f'{a}학년 {b}반 {c}번')# f 스트링"
      ]
    },
    {
      "cell_type": "code",
      "source": [
        "# num = '서울2가1234'\n",
        "# print(num+'의 차량번호 4자리는 '+num[-4:]+'입니다')\n",
        "\n",
        "no = '서울2가1234'\n",
        "no4 = no[-4:]\n",
        "print(f'{no}의 차량번호 4자리는 {no4}입니다')"
      ],
      "metadata": {
        "colab": {
          "base_uri": "https://localhost:8080/"
        },
        "id": "ODe7V8E_WJlw",
        "outputId": "6426049b-c1b9-4fa9-d8c2-57a99bf9196a"
      },
      "execution_count": 22,
      "outputs": [
        {
          "output_type": "stream",
          "name": "stdout",
          "text": [
            "서울2가1234의 차량번호 4자리는 1234입니다\n"
          ]
        }
      ]
    },
    {
      "cell_type": "code",
      "source": [
        "s = 'maple'\n",
        "mid = len(s) // 2 # // : 나머지를 버리고 몫만 취한다\n",
        "                  # % : 몫을 버리고 나머지만 취한다(홀/짝/배수를 알아낼 수 있음)\n",
        "print(f'{s}의 가운데 글자는 {s[mid]}입니다')"
      ],
      "metadata": {
        "colab": {
          "base_uri": "https://localhost:8080/"
        },
        "id": "ZvPkoAIOXHem",
        "outputId": "729149d2-3280-4ad6-c99c-54058dcccef4"
      },
      "execution_count": 37,
      "outputs": [
        {
          "output_type": "stream",
          "name": "stdout",
          "text": [
            "maple의 가운데 글자는 p입니다\n"
          ]
        }
      ]
    },
    {
      "cell_type": "code",
      "source": [
        "list = [10,20,30,40,50,60,70,80,90,100]\n",
        "list2 = list[2:7]\n",
        "a = list2[1]\n",
        "print(f'3번째 요소부터 7번째 요소 = {list2}')\n",
        "print(f'3번째 요소부터 7번째 요소 = {list[2:7]}')\n",
        "print(f'3번째 요소부터 7번째 요소 중 2번째 요소 = {a}')\n",
        "print(f'3번째 요소부터 7번째 요소 중 2번째 요소 = {list[2:7][1]}')"
      ],
      "metadata": {
        "colab": {
          "base_uri": "https://localhost:8080/"
        },
        "id": "cDGEF7EdXo4N",
        "outputId": "68c483ca-51d3-478b-862a-047024313765"
      },
      "execution_count": 40,
      "outputs": [
        {
          "output_type": "stream",
          "name": "stdout",
          "text": [
            "3번째 요소부터 7번째 요소 = [30, 40, 50, 60, 70]\n",
            "3번째 요소부터 7번째 요소 = [30, 40, 50, 60, 70]\n",
            "3번째 요소부터 7번째 요소 중 2번째 요소 = 40\n",
            "3번째 요소부터 7번째 요소 중 2번째 요소 = 40\n"
          ]
        }
      ]
    },
    {
      "cell_type": "code",
      "source": [
        "menu = {'금요일':'탕수육', '토요일':'유산슬', '일요일':'팔보채'}\n",
        "print('금요일 :',menu['금요일'])\n",
        "print('토요일 :', menu['토요일'])\n",
        "print('일요일 :',menu['일요일'])"
      ],
      "metadata": {
        "colab": {
          "base_uri": "https://localhost:8080/"
        },
        "id": "uudI9Bc7azfj",
        "outputId": "d9730150-1743-416c-a921-531192b93753"
      },
      "execution_count": 45,
      "outputs": [
        {
          "output_type": "stream",
          "name": "stdout",
          "text": [
            "금요일 : 탕수육\n",
            "토요일 : 유산슬\n",
            "일요일 : 팔보채\n"
          ]
        }
      ]
    },
    {
      "cell_type": "code",
      "source": [
        "# \\n 줄바꿈 line feed\n",
        "# \\t 탭     tab\n",
        "\n",
        "# \\ 따옴표의 기능을 무력화 시키고 글자로 표현\n",
        "\n",
        "print('Hello \\'World\\'')\n",
        "print(\"Hello 'World'\")\n",
        "print(\"Hello \\\"World\\\"\")\n",
        "print('*\\n**\\n***')\n",
        "print('이름\\t연락처')\n",
        "print('제시카 \\t02-123-4567')\n",
        "print('마틴\\t010-8765-1234')"
      ],
      "metadata": {
        "colab": {
          "base_uri": "https://localhost:8080/"
        },
        "id": "WmNnMN-RidJi",
        "outputId": "1b0436de-0679-41a1-fb2b-db9cabac752b"
      },
      "execution_count": 56,
      "outputs": [
        {
          "output_type": "stream",
          "name": "stdout",
          "text": [
            "Hello 'World'\n",
            "Hello 'World'\n",
            "Hello \"World\"\n",
            "*\n",
            "**\n",
            "***\n",
            "이름\t연락처\n",
            "제시카 \t02-123-4567\n",
            "마틴\t010-8765-1234\n"
          ]
        }
      ]
    },
    {
      "cell_type": "code",
      "source": [
        "# print() 함수\n",
        "\n",
        "print('재미있는','파이썬') # 기본 띄어쓰기 있음 : 기본 공백\n",
        "print('재미있는','파이썬',sep=',') #sep : 구분자 # 여기서는 띄어쓰기가 생략됨 띄어쓰기 대신 ,로 구분\n",
        "print('재미있는','파이썬',sep='/') # 여기서는 띄어쓰기가 생략됨 띄어쓰기 대신 /로 구분\n"
      ],
      "metadata": {
        "colab": {
          "base_uri": "https://localhost:8080/"
        },
        "id": "ORsd6bSBkEK0",
        "outputId": "842154ea-8bea-40e2-fdc8-9f85625db95b"
      },
      "execution_count": 59,
      "outputs": [
        {
          "output_type": "stream",
          "name": "stdout",
          "text": [
            "재미있는 파이썬\n",
            "재미있는,파이썬\n",
            "재미있는/파이썬\n"
          ]
        }
      ]
    },
    {
      "cell_type": "code",
      "source": [
        "print('영화 타이타닉') # print는 문장 종료 후 줄바꿈이 기본 end 기본값이 \\n\n",
        "print('평점', end=':') # end 값을 기본\\n에서 :로 변경\n",
        "print('5점')"
      ],
      "metadata": {
        "colab": {
          "base_uri": "https://localhost:8080/"
        },
        "id": "4BLpt_E6mUCu",
        "outputId": "b188d3d1-7d63-4f78-f117-5378734384f5"
      },
      "execution_count": 60,
      "outputs": [
        {
          "output_type": "stream",
          "name": "stdout",
          "text": [
            "영화 타이타닉\n",
            "평점:5점\n"
          ]
        }
      ]
    },
    {
      "cell_type": "code",
      "source": [
        "# % 연산자\n",
        "\n",
        "print('%d' % 10)  # %d : 정수 10진수 자리표시자\n",
        "print('%o' % 10)  # %o : 정수 8진수 자리표시자\n",
        "print('%x' % 10)  # %x : 정수 16진수 자리표시자\n",
        "\n",
        "print('%f' % 3.14)  # %f : 실수\n",
        "print('%d' % 3.14)\n",
        "\n",
        "print('%s' % 'python')\n",
        "print('%s' % 10)\n",
        "print('%s' % 3.14)"
      ],
      "metadata": {
        "colab": {
          "base_uri": "https://localhost:8080/"
        },
        "id": "CwtiCA1pos3v",
        "outputId": "2f81cd6f-3dc7-4d94-87b8-429a77d4266a"
      },
      "execution_count": 69,
      "outputs": [
        {
          "output_type": "stream",
          "name": "stdout",
          "text": [
            "10\n",
            "12\n",
            "a\n",
            "3.140000\n",
            "3\n",
            "python\n",
            "10\n",
            "3.14\n"
          ]
        }
      ]
    },
    {
      "cell_type": "code",
      "source": [
        "print('%5d' %1)\n",
        "print('%d' %1)\n",
        "print('%5d' %11) #5칸 확보 후 오른쪽 부터 출력\n",
        "print('%-5d' %11) # 5칸 확보 후 왼쪽부터 출력\n",
        "print('%-5d' %11)"
      ],
      "metadata": {
        "colab": {
          "base_uri": "https://localhost:8080/"
        },
        "id": "n4aV82RxtaHd",
        "outputId": "bd4237b4-e022-4b3f-ddb0-f6b1b8da3365"
      },
      "execution_count": 78,
      "outputs": [
        {
          "output_type": "stream",
          "name": "stdout",
          "text": [
            "    1\n",
            "1\n",
            "   11\n",
            "11   \n",
            "11   \n"
          ]
        }
      ]
    },
    {
      "cell_type": "code",
      "source": [
        "print('%5.2f' %3.14) # 5칸 확보 후 오른쪽부터 소수점 2자리까지 실수 출력\n",
        "print('%5.1f' %3.14)\n",
        "print('%-5.2f' %3.14) # 5칸 확보 후 왼쪽부터 소수점 2자리까지 실수 출력\n",
        "print('%-5.1f' %3.14)"
      ],
      "metadata": {
        "colab": {
          "base_uri": "https://localhost:8080/"
        },
        "id": "l9HBC87Qussc",
        "outputId": "517afdd4-0d68-4e09-b349-afd7d3fea4d4"
      },
      "execution_count": 79,
      "outputs": [
        {
          "output_type": "stream",
          "name": "stdout",
          "text": [
            " 3.14\n",
            "  3.1\n",
            "3.14 \n",
            "3.1  \n"
          ]
        }
      ]
    },
    {
      "cell_type": "code",
      "source": [
        "print('%.2f' %3.14) # 오른쪽부터 소수점 2자리까지 실수 출력\n",
        "print('%.1f' %3.14)"
      ],
      "metadata": {
        "colab": {
          "base_uri": "https://localhost:8080/"
        },
        "id": "xADBRSoiuxgP",
        "outputId": "fed7a20b-f30d-4614-eddc-528375484d38"
      },
      "execution_count": 80,
      "outputs": [
        {
          "output_type": "stream",
          "name": "stdout",
          "text": [
            "3.14\n",
            "3.1\n"
          ]
        }
      ]
    },
    {
      "cell_type": "code",
      "source": [
        "a = '학생'\n",
        "\n",
        "# 기본 출력방법\n",
        "print(a,'입니다')\n",
        "\n",
        "# f string 출력방법\n",
        "print(f'{a} 입니다')\n",
        "\n",
        "# % 연산자 출력방법\n",
        "print('%s 입니다' % a)\n",
        "\n",
        "# format() 출력방법\n",
        "print('{} 입니다'.format(a))"
      ],
      "metadata": {
        "colab": {
          "base_uri": "https://localhost:8080/"
        },
        "id": "7nbQ6vpmvq9M",
        "outputId": "c819b998-d8fc-4578-f4a6-65a2c15c4925"
      },
      "execution_count": 82,
      "outputs": [
        {
          "output_type": "stream",
          "name": "stdout",
          "text": [
            "학생 입니다\n",
            "학생 입니다\n",
            "학생 입니다\n",
            "학생 입니다\n"
          ]
        }
      ]
    },
    {
      "cell_type": "code",
      "source": [
        "# format() 메소드\n",
        "\n",
        "print('My name is {}'.format('James'))\n",
        "print('My name is {0}'.format('James'))\n",
        "print('My name is {0}'.format('James','Alice'))\n",
        "print('My name is {name}'.format(name = 'James'))"
      ],
      "metadata": {
        "colab": {
          "base_uri": "https://localhost:8080/"
        },
        "id": "cB882GAbwXnv",
        "outputId": "8de29d86-1533-4df4-f0cd-b963b3efdb6f"
      },
      "execution_count": 89,
      "outputs": [
        {
          "output_type": "stream",
          "name": "stdout",
          "text": [
            "My name is James\n",
            "My name is James\n",
            "My name is James\n",
            "My name is James\n"
          ]
        }
      ]
    },
    {
      "cell_type": "code",
      "source": [
        "print('My name is {}, I\\'m {} years old.'.format('James', 20))\n",
        "print('My name is {1}, I\\'m {0} years old.'.format('James', 20))\n",
        "print('My name is {name}, I\\'m {age} years old.'.format(name='James', age=20))"
      ],
      "metadata": {
        "colab": {
          "base_uri": "https://localhost:8080/"
        },
        "id": "hkvtjc8pxDpx",
        "outputId": "ad08df6f-5972-441c-b601-c25beb3b6e05"
      },
      "execution_count": 93,
      "outputs": [
        {
          "output_type": "stream",
          "name": "stdout",
          "text": [
            "My name is James, I'm 20 years old.\n",
            "My name is 20, I'm James years old.\n",
            "My name is James, I'm 20 years old.\n"
          ]
        }
      ]
    },
    {
      "cell_type": "code",
      "source": [
        "who = 'you'\n",
        "how = 'happy'\n",
        "\n",
        "print(f'{who} make me {how}')"
      ],
      "metadata": {
        "colab": {
          "base_uri": "https://localhost:8080/"
        },
        "id": "4smFPDHYyHDW",
        "outputId": "48e969ff-1257-410c-91a2-294f543c5623"
      },
      "execution_count": 94,
      "outputs": [
        {
          "output_type": "stream",
          "name": "stdout",
          "text": [
            "you make me happy\n"
          ]
        }
      ]
    },
    {
      "cell_type": "code",
      "source": [
        "age = 25\n",
        "print(f'내년엔 {age+1}살이 된다.')"
      ],
      "metadata": {
        "colab": {
          "base_uri": "https://localhost:8080/"
        },
        "id": "x8-ZZoqvyojU",
        "outputId": "a268c69e-65f6-4fee-c61a-2878ad8149b9"
      },
      "execution_count": 95,
      "outputs": [
        {
          "output_type": "stream",
          "name": "stdout",
          "text": [
            "내년엔 26살이 된다.\n"
          ]
        }
      ]
    },
    {
      "cell_type": "code",
      "source": [
        "# 표준 입력\n",
        "\n",
        "a = input()\n",
        "print(a)"
      ],
      "metadata": {
        "colab": {
          "base_uri": "https://localhost:8080/"
        },
        "id": "L9AO3evDzDkj",
        "outputId": "3168f47d-5f8b-46a2-c355-1b01c564cdff"
      },
      "execution_count": 97,
      "outputs": [
        {
          "output_type": "stream",
          "name": "stdout",
          "text": [
            "sdf\n",
            "sdf\n"
          ]
        }
      ]
    },
    {
      "cell_type": "code",
      "source": [
        "n = input('정수를 입력하시요 >> ')\n",
        "print(n)"
      ],
      "metadata": {
        "colab": {
          "base_uri": "https://localhost:8080/"
        },
        "id": "4NfYmbGozZUu",
        "outputId": "0e321c21-0bc8-43f7-a30b-25e04e05d90f"
      },
      "execution_count": 98,
      "outputs": [
        {
          "output_type": "stream",
          "name": "stdout",
          "text": [
            "정수를 입력하시요 >> 43\n",
            "43\n"
          ]
        }
      ]
    },
    {
      "cell_type": "code",
      "source": [
        "name = input('이름을 입력하세요 >>> ')\n",
        "age = input('나이를 입력하세요 >> ')\n",
        "\n",
        "print('입력된 이름은 {}입니다'.format(name))\n",
        "print('입력된 나이는 {}입니다'.format(age))\n",
        "\n",
        "print(f'입력된 이름은 {name}입니다')\n",
        "print(f'입력된 나이는 {age}입니다')\n",
        "\n",
        "print('입력된 이름은 ',name,'입니다',sep='')\n",
        "print('입력된 나이는 ',age,'입니다',sep='')\n",
        "\n",
        "print('입력된 이름은 %s입니다'%name)\n",
        "print('입력된 나이는 %s입니다'%age)\n"
      ],
      "metadata": {
        "colab": {
          "base_uri": "https://localhost:8080/"
        },
        "id": "kKjiFo_Dz7DW",
        "outputId": "43ee1efe-1649-44b9-b583-1695f9ffa67c"
      },
      "execution_count": 106,
      "outputs": [
        {
          "output_type": "stream",
          "name": "stdout",
          "text": [
            "이름을 입력하세요 >>> 홍길동\n",
            "나이를 입력하세요 >> 34\n",
            "입력된 이름은 홍길동입니다\n",
            "입력된 이름은 홍길동입니다\n",
            "입력된 이름은 홍길동입니다\n",
            "입력된 이름은 홍길동입니다\n",
            "입력된 나이는 34입니다\n",
            "입력된 나이는 34입니다\n",
            "입력된 나이는 34입니다\n",
            "입력된 나이는 34입니다\n"
          ]
        }
      ]
    }
  ]
}